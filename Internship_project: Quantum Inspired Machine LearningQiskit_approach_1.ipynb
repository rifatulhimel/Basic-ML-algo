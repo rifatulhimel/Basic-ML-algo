{
  "nbformat": 4,
  "nbformat_minor": 0,
  "metadata": {
    "colab": {
      "name": "Image Classification using Qiskit_approach_1.ipynb",
      "provenance": [],
      "collapsed_sections": []
    },
    "kernelspec": {
      "display_name": "Python 3",
      "name": "python3"
    },
    "language_info": {
      "name": "python"
    }
  },
  "cells": [
    {
      "cell_type": "markdown",
      "metadata": {
        "id": "kV0jjxnda4sQ"
      },
      "source": [
        "**Problem Statement:** There is a huge number of digital archival images of one of the influencial persons in the history of the world, Mahatma Gandhi. We want to process those images with computer vision and machine learning tools to identify the people in those images. Although classically it is an easy task. But as Havlicek V. et al. suggested in their paper (https://arxiv.org/abs/1804.11326) that we may get computational speedup if we can use efficient and effective quantum algorithm. So, our main goal of this project is to build an efficient multiclass quantum classifier to process images.\n",
        "\n",
        "**Project plan:** At first, we have chosen a publicly available dataset to run our algorithm and have found CIFAR-10 dataset is one of the suitable ones to run our experiments. The deatils of the dataset is given in the link: https://www.cs.toronto.edu/~kriz/cifar.html. From our theoretical understanding we have found that we can only perform binary classification within the hilbert space unless it is not an ensemble or any other state-of-the-art approach. So, we can only classify 2 classes at a time. Therefore, to build a multiclass classifier, we have taken 2 classes multiple times. In our project, we have three different team who have worked on 3 different platforms. Qiskit team has 3 members. IBM qiskit simulator has two different approachs. One approach is pretty straignt forward. We encode our data to the qubits, use parameterized circuit, measurement and cost function to train our quantum circuit and then with the optimized parameter from the optimizer, we performe our test on the test dataset. Another approach is given in the link: (https://github.com/Qiskit/qiskit-machine-learning/blob/stable/0.2/docs/tutorials/05_torch_connector.ipynb). In this approach, a Qiskit's TorchConnector class is introduced. TorchConnector allows a natural integration of any NeuralNetwork from Qiskit Machine Learning into a PyTorch workflow.TorchConnector takes a Qiskit NeuralNetwork and makes it available as a PyTorch Module. The resulting module can be seamlessly incorporated into PyTorch classical architectures and trained jointly without additional considerations, enabling the development and testing of novel hybrid quantum-classical machine learning architectures.We have performed our experiments on the data with both of the approachs. \n",
        "\n"
      ]
    },
    {
      "cell_type": "markdown",
      "metadata": {
        "id": "wybcriLjbsHF"
      },
      "source": [
        "**QISKIT Platform (Approach 1):** In this approach, we prepared a variational Quantum Classifier for image classification. A variational Quantum Classifier has the following elements: Data Encoding Circuit, Parameterized Circuit, Measurement, Cost Function and Optimization. We have developed those and tweaked and trained our model accordingly. After that similar to train data, we processed our test data. When we have found our optimum parameter, we have applied the parameter on the test sample to test the performance of our model.\n",
        "\n",
        "**Inspiration:** https://www.youtube.com/watch?v=5Kr31IFwJiI&t=4s"
      ]
    },
    {
      "cell_type": "markdown",
      "metadata": {
        "id": "nHfQyzr22fkT"
      },
      "source": [
        "**Setting up our environment:** We need to install only the qiskit module in this approach."
      ]
    },
    {
      "cell_type": "code",
      "metadata": {
        "colab": {
          "base_uri": "https://localhost:8080/"
        },
        "id": "OGjM7VEQYb71",
        "outputId": "6276dee2-42e2-44d7-b46d-d06b1365e642"
      },
      "source": [
        "pip install qiskit"
      ],
      "execution_count": 2,
      "outputs": [
        {
          "output_type": "stream",
          "text": [
            "Collecting qiskit\n",
            "  Downloading qiskit-0.29.0.tar.gz (12 kB)\n",
            "Collecting qiskit-terra==0.18.1\n",
            "  Downloading qiskit_terra-0.18.1-cp37-cp37m-manylinux2010_x86_64.whl (6.1 MB)\n",
            "\u001b[K     |████████████████████████████████| 6.1 MB 4.3 MB/s \n",
            "\u001b[?25hCollecting qiskit-aer==0.8.2\n",
            "  Downloading qiskit_aer-0.8.2-cp37-cp37m-manylinux2010_x86_64.whl (18.0 MB)\n",
            "\u001b[K     |████████████████████████████████| 18.0 MB 121 kB/s \n",
            "\u001b[?25hCollecting qiskit-ibmq-provider==0.16.0\n",
            "  Downloading qiskit_ibmq_provider-0.16.0-py3-none-any.whl (235 kB)\n",
            "\u001b[K     |████████████████████████████████| 235 kB 69.5 MB/s \n",
            "\u001b[?25hCollecting qiskit-ignis==0.6.0\n",
            "  Downloading qiskit_ignis-0.6.0-py3-none-any.whl (207 kB)\n",
            "\u001b[K     |████████████████████████████████| 207 kB 66.6 MB/s \n",
            "\u001b[?25hCollecting qiskit-aqua==0.9.4\n",
            "  Downloading qiskit_aqua-0.9.4-py3-none-any.whl (2.1 MB)\n",
            "\u001b[K     |████████████████████████████████| 2.1 MB 68.6 MB/s \n",
            "\u001b[?25hRequirement already satisfied: numpy>=1.16.3 in /usr/local/lib/python3.7/dist-packages (from qiskit-aer==0.8.2->qiskit) (1.19.5)\n",
            "Collecting pybind11>=2.6\n",
            "  Downloading pybind11-2.7.1-py2.py3-none-any.whl (200 kB)\n",
            "\u001b[K     |████████████████████████████████| 200 kB 72.7 MB/s \n",
            "\u001b[?25hRequirement already satisfied: scipy>=1.0 in /usr/local/lib/python3.7/dist-packages (from qiskit-aer==0.8.2->qiskit) (1.4.1)\n",
            "Requirement already satisfied: h5py<3.3.0 in /usr/local/lib/python3.7/dist-packages (from qiskit-aqua==0.9.4->qiskit) (3.1.0)\n",
            "Collecting quandl\n",
            "  Downloading Quandl-3.6.1-py2.py3-none-any.whl (26 kB)\n",
            "Collecting retworkx>=0.8.0\n",
            "  Downloading retworkx-0.9.0-cp37-cp37m-manylinux_2_5_x86_64.manylinux1_x86_64.manylinux_2_12_x86_64.manylinux2010_x86_64.whl (1.4 MB)\n",
            "\u001b[K     |████████████████████████████████| 1.4 MB 32.2 MB/s \n",
            "\u001b[?25hCollecting dlx<=1.0.4\n",
            "  Downloading dlx-1.0.4.tar.gz (5.5 kB)\n",
            "Requirement already satisfied: fastdtw<=0.3.4 in /usr/local/lib/python3.7/dist-packages (from qiskit-aqua==0.9.4->qiskit) (0.3.4)\n",
            "Requirement already satisfied: scikit-learn>=0.20.0 in /usr/local/lib/python3.7/dist-packages (from qiskit-aqua==0.9.4->qiskit) (0.22.2.post1)\n",
            "Collecting yfinance<0.1.63\n",
            "  Downloading yfinance-0.1.62.tar.gz (26 kB)\n",
            "Requirement already satisfied: sympy>=1.3 in /usr/local/lib/python3.7/dist-packages (from qiskit-aqua==0.9.4->qiskit) (1.7.1)\n",
            "Requirement already satisfied: pandas in /usr/local/lib/python3.7/dist-packages (from qiskit-aqua==0.9.4->qiskit) (1.1.5)\n",
            "Requirement already satisfied: psutil>=5 in /usr/local/lib/python3.7/dist-packages (from qiskit-aqua==0.9.4->qiskit) (5.4.8)\n",
            "Requirement already satisfied: setuptools>=40.1.0 in /usr/local/lib/python3.7/dist-packages (from qiskit-aqua==0.9.4->qiskit) (57.4.0)\n",
            "Collecting docplex>=2.21.207\n",
            "  Downloading docplex-2.21.207.tar.gz (635 kB)\n",
            "\u001b[K     |████████████████████████████████| 635 kB 50.8 MB/s \n",
            "\u001b[?25hCollecting requests-ntlm>=1.1.0\n",
            "  Downloading requests_ntlm-1.1.0-py2.py3-none-any.whl (5.7 kB)\n",
            "Requirement already satisfied: python-dateutil>=2.8.0 in /usr/local/lib/python3.7/dist-packages (from qiskit-ibmq-provider==0.16.0->qiskit) (2.8.2)\n",
            "Requirement already satisfied: urllib3>=1.21.1 in /usr/local/lib/python3.7/dist-packages (from qiskit-ibmq-provider==0.16.0->qiskit) (1.24.3)\n",
            "Collecting websocket-client>=1.0.1\n",
            "  Downloading websocket_client-1.2.1-py2.py3-none-any.whl (52 kB)\n",
            "\u001b[K     |████████████████████████████████| 52 kB 1.2 MB/s \n",
            "\u001b[?25hRequirement already satisfied: requests>=2.19 in /usr/local/lib/python3.7/dist-packages (from qiskit-ibmq-provider==0.16.0->qiskit) (2.23.0)\n",
            "Collecting tweedledum<2.0,>=1.1\n",
            "  Downloading tweedledum-1.1.0-cp37-cp37m-manylinux_2_12_x86_64.manylinux2010_x86_64.whl (943 kB)\n",
            "\u001b[K     |████████████████████████████████| 943 kB 50.7 MB/s \n",
            "\u001b[?25hCollecting python-constraint>=1.4\n",
            "  Downloading python-constraint-1.4.0.tar.bz2 (18 kB)\n",
            "Collecting symengine>0.7\n",
            "  Downloading symengine-0.7.2-cp37-cp37m-manylinux2010_x86_64.whl (33.9 MB)\n",
            "\u001b[K     |████████████████████████████████| 33.9 MB 18 kB/s \n",
            "\u001b[?25hRequirement already satisfied: dill>=0.3 in /usr/local/lib/python3.7/dist-packages (from qiskit-terra==0.18.1->qiskit) (0.3.4)\n",
            "Collecting fastjsonschema>=2.10\n",
            "  Downloading fastjsonschema-2.15.1-py3-none-any.whl (21 kB)\n",
            "Collecting ply>=3.10\n",
            "  Downloading ply-3.11-py2.py3-none-any.whl (49 kB)\n",
            "\u001b[K     |████████████████████████████████| 49 kB 5.2 MB/s \n",
            "\u001b[?25hRequirement already satisfied: jsonschema>=2.6 in /usr/local/lib/python3.7/dist-packages (from qiskit-terra==0.18.1->qiskit) (2.6.0)\n",
            "Requirement already satisfied: six in /usr/local/lib/python3.7/dist-packages (from docplex>=2.21.207->qiskit-aqua==0.9.4->qiskit) (1.15.0)\n",
            "Requirement already satisfied: cached-property in /usr/local/lib/python3.7/dist-packages (from h5py<3.3.0->qiskit-aqua==0.9.4->qiskit) (1.5.2)\n",
            "Requirement already satisfied: idna<3,>=2.5 in /usr/local/lib/python3.7/dist-packages (from requests>=2.19->qiskit-ibmq-provider==0.16.0->qiskit) (2.10)\n",
            "Requirement already satisfied: certifi>=2017.4.17 in /usr/local/lib/python3.7/dist-packages (from requests>=2.19->qiskit-ibmq-provider==0.16.0->qiskit) (2021.5.30)\n",
            "Requirement already satisfied: chardet<4,>=3.0.2 in /usr/local/lib/python3.7/dist-packages (from requests>=2.19->qiskit-ibmq-provider==0.16.0->qiskit) (3.0.4)\n",
            "Collecting ntlm-auth>=1.0.2\n",
            "  Downloading ntlm_auth-1.5.0-py2.py3-none-any.whl (29 kB)\n",
            "Collecting cryptography>=1.3\n",
            "  Downloading cryptography-3.4.7-cp36-abi3-manylinux2014_x86_64.whl (3.2 MB)\n",
            "\u001b[K     |████████████████████████████████| 3.2 MB 27.3 MB/s \n",
            "\u001b[?25hRequirement already satisfied: cffi>=1.12 in /usr/local/lib/python3.7/dist-packages (from cryptography>=1.3->requests-ntlm>=1.1.0->qiskit-ibmq-provider==0.16.0->qiskit) (1.14.6)\n",
            "Requirement already satisfied: pycparser in /usr/local/lib/python3.7/dist-packages (from cffi>=1.12->cryptography>=1.3->requests-ntlm>=1.1.0->qiskit-ibmq-provider==0.16.0->qiskit) (2.20)\n",
            "Requirement already satisfied: joblib>=0.11 in /usr/local/lib/python3.7/dist-packages (from scikit-learn>=0.20.0->qiskit-aqua==0.9.4->qiskit) (1.0.1)\n",
            "Requirement already satisfied: mpmath>=0.19 in /usr/local/lib/python3.7/dist-packages (from sympy>=1.3->qiskit-aqua==0.9.4->qiskit) (1.2.1)\n",
            "Requirement already satisfied: multitasking>=0.0.7 in /usr/local/lib/python3.7/dist-packages (from yfinance<0.1.63->qiskit-aqua==0.9.4->qiskit) (0.0.9)\n",
            "Collecting lxml>=4.5.1\n",
            "  Downloading lxml-4.6.3-cp37-cp37m-manylinux2014_x86_64.whl (6.3 MB)\n",
            "\u001b[K     |████████████████████████████████| 6.3 MB 39.4 MB/s \n",
            "\u001b[?25hRequirement already satisfied: pytz>=2017.2 in /usr/local/lib/python3.7/dist-packages (from pandas->qiskit-aqua==0.9.4->qiskit) (2018.9)\n",
            "Collecting inflection>=0.3.1\n",
            "  Downloading inflection-0.5.1-py2.py3-none-any.whl (9.5 kB)\n",
            "Requirement already satisfied: more-itertools in /usr/local/lib/python3.7/dist-packages (from quandl->qiskit-aqua==0.9.4->qiskit) (8.8.0)\n",
            "Building wheels for collected packages: qiskit, dlx, docplex, python-constraint, yfinance\n",
            "  Building wheel for qiskit (setup.py) ... \u001b[?25l\u001b[?25hdone\n",
            "  Created wheel for qiskit: filename=qiskit-0.29.0-py3-none-any.whl size=11179 sha256=5ff09124f5107c758deb46eafe70a31754a7dc9c8e7d1d0e554bb24ea3bda084\n",
            "  Stored in directory: /root/.cache/pip/wheels/4b/d3/1f/f1bc9f8c3b170b19b9471e55fda4819e53476c21e5618ee86c\n",
            "  Building wheel for dlx (setup.py) ... \u001b[?25l\u001b[?25hdone\n",
            "  Created wheel for dlx: filename=dlx-1.0.4-py3-none-any.whl size=5719 sha256=328d46c3ac3830905ddd214b66777b9eeb4eed0f6eb9abf8bb1a2efd263797f8\n",
            "  Stored in directory: /root/.cache/pip/wheels/78/55/c8/dc61e772445a566b7608a476d151e9dcaf4e092b01b0c4bc3c\n",
            "  Building wheel for docplex (setup.py) ... \u001b[?25l\u001b[?25hdone\n",
            "  Created wheel for docplex: filename=docplex-2.21.207-py3-none-any.whl size=700544 sha256=66ae6fa2fb5fd3fc4d4c66eec6bb7e312194679af2b470507167678de097a7f3\n",
            "  Stored in directory: /root/.cache/pip/wheels/d8/4e/62/e43a45757e70549e6aa4712ccfcf67440a203c278ecb68de49\n",
            "  Building wheel for python-constraint (setup.py) ... \u001b[?25l\u001b[?25hdone\n",
            "  Created wheel for python-constraint: filename=python_constraint-1.4.0-py2.py3-none-any.whl size=24081 sha256=af702975f46c07fa0f5f677faffa2bc9d79e0b99fe3e45c0fa7c3edbc650bee7\n",
            "  Stored in directory: /root/.cache/pip/wheels/07/27/db/1222c80eb1e431f3d2199c12569cb1cac60f562a451fe30479\n",
            "  Building wheel for yfinance (setup.py) ... \u001b[?25l\u001b[?25hdone\n",
            "  Created wheel for yfinance: filename=yfinance-0.1.62-py2.py3-none-any.whl size=23867 sha256=1acf6e432ddb7641f801c60d27e91f43c7a8b0b35e587865375186c2b9a833a2\n",
            "  Stored in directory: /root/.cache/pip/wheels/4c/3a/2e/53936bb0b112189d5532492b32dd8f3e442cba9d832ceef3b6\n",
            "Successfully built qiskit dlx docplex python-constraint yfinance\n",
            "Installing collected packages: tweedledum, symengine, retworkx, python-constraint, ply, fastjsonschema, qiskit-terra, ntlm-auth, lxml, inflection, cryptography, yfinance, websocket-client, requests-ntlm, quandl, qiskit-ignis, pybind11, docplex, dlx, qiskit-ibmq-provider, qiskit-aqua, qiskit-aer, qiskit\n",
            "  Attempting uninstall: lxml\n",
            "    Found existing installation: lxml 4.2.6\n",
            "    Uninstalling lxml-4.2.6:\n",
            "      Successfully uninstalled lxml-4.2.6\n",
            "Successfully installed cryptography-3.4.7 dlx-1.0.4 docplex-2.21.207 fastjsonschema-2.15.1 inflection-0.5.1 lxml-4.6.3 ntlm-auth-1.5.0 ply-3.11 pybind11-2.7.1 python-constraint-1.4.0 qiskit-0.29.0 qiskit-aer-0.8.2 qiskit-aqua-0.9.4 qiskit-ibmq-provider-0.16.0 qiskit-ignis-0.6.0 qiskit-terra-0.18.1 quandl-3.6.1 requests-ntlm-1.1.0 retworkx-0.9.0 symengine-0.7.2 tweedledum-1.1.0 websocket-client-1.2.1 yfinance-0.1.62\n"
          ],
          "name": "stdout"
        }
      ]
    },
    {
      "cell_type": "markdown",
      "metadata": {
        "id": "f60IyUe33Emo"
      },
      "source": [
        "**Importing Required Libraries:** We have to import all the reuired libraries and functions first to download, manipulate, train-test and optimize the quantum system to reach the desired outcome."
      ]
    },
    {
      "cell_type": "code",
      "metadata": {
        "id": "hXiQ-1haYXSv"
      },
      "source": [
        "import copy\n",
        "import tensorflow as tf\n",
        "\n",
        "import numpy as np\n",
        "import collections\n",
        "\n",
        "%matplotlib inline\n",
        "import matplotlib.pyplot as plt"
      ],
      "execution_count": 1,
      "outputs": []
    },
    {
      "cell_type": "code",
      "metadata": {
        "id": "n2Fn2uh5YiWh"
      },
      "source": [
        "import qiskit\n",
        "from qiskit import QuantumCircuit, Aer, IBMQ, QuantumRegister, ClassicalRegister"
      ],
      "execution_count": 3,
      "outputs": []
    },
    {
      "cell_type": "markdown",
      "metadata": {
        "id": "DaeBhmGo3577"
      },
      "source": [
        "**Data Accumulation:** We take advantage of the TensorFlow API to directly load CIFAR10 dataset. We have downloaded our data and split that into train and test sets. We converted the images to single channel and resized that to 4*4 matrix. After that, as promised earlier, we took two of the ten classes from the data to do classification. In this experiement, we have chosen first two classes, Airplane and Automobile."
      ]
    },
    {
      "cell_type": "code",
      "metadata": {
        "colab": {
          "base_uri": "https://localhost:8080/"
        },
        "id": "cNKSGuPxYiry",
        "outputId": "119bfe59-9613-4701-917a-88c3f5843c6f"
      },
      "source": [
        "(X_train, y_train), (X_test, y_test) = tf.keras.datasets.cifar10.load_data()"
      ],
      "execution_count": 4,
      "outputs": [
        {
          "output_type": "stream",
          "text": [
            "Downloading data from https://www.cs.toronto.edu/~kriz/cifar-10-python.tar.gz\n",
            "170500096/170498071 [==============================] - 11s 0us/step\n",
            "170508288/170498071 [==============================] - 11s 0us/step\n"
          ],
          "name": "stdout"
        }
      ]
    },
    {
      "cell_type": "markdown",
      "metadata": {
        "id": "zcMjPi4v7RPb"
      },
      "source": [
        "**Data Size:**"
      ]
    },
    {
      "cell_type": "code",
      "metadata": {
        "colab": {
          "base_uri": "https://localhost:8080/"
        },
        "id": "Mqzw24J-Yqwx",
        "outputId": "d693b19f-cc3e-4627-8f31-ba4568e71b82"
      },
      "source": [
        "len(X_train)"
      ],
      "execution_count": 5,
      "outputs": [
        {
          "output_type": "execute_result",
          "data": {
            "text/plain": [
              "50000"
            ]
          },
          "metadata": {
            "tags": []
          },
          "execution_count": 5
        }
      ]
    },
    {
      "cell_type": "markdown",
      "metadata": {
        "id": "U_iXWvRE7buJ"
      },
      "source": [
        "**Image Conversion and Resizing:**"
      ]
    },
    {
      "cell_type": "code",
      "metadata": {
        "colab": {
          "base_uri": "https://localhost:8080/"
        },
        "id": "9ZQJcEXTYtyJ",
        "outputId": "2ec1a7cb-1ef5-4875-8b8c-32e57f406a97"
      },
      "source": [
        "X_train= tf.image.rgb_to_grayscale(X_train)\n",
        "X_train=tf.image.resize(X_train, [4,4])\n",
        "X_train.shape"
      ],
      "execution_count": 6,
      "outputs": [
        {
          "output_type": "execute_result",
          "data": {
            "text/plain": [
              "TensorShape([50000, 4, 4, 1])"
            ]
          },
          "metadata": {
            "tags": []
          },
          "execution_count": 6
        }
      ]
    },
    {
      "cell_type": "markdown",
      "metadata": {
        "id": "7Pmb5-7z7tU0"
      },
      "source": [
        "**Picking 2 Classes from 10:**"
      ]
    },
    {
      "cell_type": "code",
      "metadata": {
        "id": "-aL4UjRtYxMJ"
      },
      "source": [
        "x_train_n=[]\n",
        "y_train_n=[]\n",
        "for i in range(len(X_train)):\n",
        "    if y_train[i]==[0] or y_train[i]==[1]:\n",
        "        x_train_n.append(X_train[i])\n",
        "        y_train_n.append(y_train[i])"
      ],
      "execution_count": 7,
      "outputs": []
    },
    {
      "cell_type": "code",
      "metadata": {
        "id": "hR_LbxukY1NB"
      },
      "source": [
        "x_train_n=x_train_n[:1000]\n",
        "X_train=np.array(x_train_n)"
      ],
      "execution_count": 8,
      "outputs": []
    },
    {
      "cell_type": "markdown",
      "metadata": {
        "id": "Iug0ipjg71Hb"
      },
      "source": [
        "**Checking Data Shape and Size:**"
      ]
    },
    {
      "cell_type": "code",
      "metadata": {
        "colab": {
          "base_uri": "https://localhost:8080/"
        },
        "id": "02r3jfx1Y4C6",
        "outputId": "edff55fd-0ce0-4ec7-9f83-423cba30e681"
      },
      "source": [
        "len(X_train)"
      ],
      "execution_count": 9,
      "outputs": [
        {
          "output_type": "execute_result",
          "data": {
            "text/plain": [
              "1000"
            ]
          },
          "metadata": {
            "tags": []
          },
          "execution_count": 9
        }
      ]
    },
    {
      "cell_type": "code",
      "metadata": {
        "colab": {
          "base_uri": "https://localhost:8080/"
        },
        "id": "F0FkkJl0Y6i6",
        "outputId": "0cd3e4a8-eb2f-49f0-81f6-e7d09047611d"
      },
      "source": [
        "X_train.shape"
      ],
      "execution_count": 10,
      "outputs": [
        {
          "output_type": "execute_result",
          "data": {
            "text/plain": [
              "(1000, 4, 4, 1)"
            ]
          },
          "metadata": {
            "tags": []
          },
          "execution_count": 10
        }
      ]
    },
    {
      "cell_type": "markdown",
      "metadata": {
        "id": "DdCX9TR87_iv"
      },
      "source": [
        "**Renormalizing Our Data:**"
      ]
    },
    {
      "cell_type": "code",
      "metadata": {
        "colab": {
          "base_uri": "https://localhost:8080/"
        },
        "id": "kLPsbYn7Y9Rx",
        "outputId": "8373b4c6-8d63-49db-994e-f5e5003379c2"
      },
      "source": [
        "X_train=np.array((X_train),dtype=\"float64\").reshape(-1, 16)\n",
        "X_train=X_train/255\n",
        "X_train[0:5]"
      ],
      "execution_count": 11,
      "outputs": [
        {
          "output_type": "execute_result",
          "data": {
            "text/plain": [
              "array([[0.37156863, 0.38921569, 0.66078431, 0.68529412, 0.26862745,\n",
              "        0.31568627, 0.32254902, 0.25196078, 0.35294118, 0.81470588,\n",
              "        0.61666667, 0.33431373, 0.31764706, 0.28137255, 0.18235294,\n",
              "        0.04901961],\n",
              "       [0.37745098, 0.15686275, 0.65490196, 0.34705882, 0.43235294,\n",
              "        0.54215686, 0.51764706, 0.56568627, 0.17941176, 0.28431373,\n",
              "        0.24803922, 0.1745098 , 0.56372549, 0.07647059, 0.10490196,\n",
              "        0.2627451 ],\n",
              "       [0.86176471, 0.89803922, 0.92941176, 0.88333333, 0.90980392,\n",
              "        0.07058824, 0.20294118, 0.98529412, 0.12352941, 0.03039216,\n",
              "        0.03627451, 0.94215686, 0.31372549, 0.19509804, 0.38431373,\n",
              "        0.95686275],\n",
              "       [0.47745098, 0.49705882, 0.51764706, 0.47941176, 0.50588235,\n",
              "        0.56176471, 0.65882353, 0.5       , 0.25098039, 0.69215686,\n",
              "        0.4754902 , 0.49901961, 0.48039216, 0.51078431, 0.50392157,\n",
              "        0.39901961],\n",
              "       [0.14411765, 0.13529412, 0.19411765, 0.2372549 , 0.2245098 ,\n",
              "        0.76568627, 0.36666667, 0.2745098 , 0.52941176, 0.5627451 ,\n",
              "        0.27352941, 0.30784314, 0.58627451, 0.00980392, 0.20294118,\n",
              "        0.66666667]])"
            ]
          },
          "metadata": {
            "tags": []
          },
          "execution_count": 11
        }
      ]
    },
    {
      "cell_type": "markdown",
      "metadata": {
        "id": "5_TrE9EF9MAt"
      },
      "source": [
        "**Checking Data Type and Data Shape:**"
      ]
    },
    {
      "cell_type": "code",
      "metadata": {
        "colab": {
          "base_uri": "https://localhost:8080/"
        },
        "id": "ISNUm3UsZBQZ",
        "outputId": "9f998615-8d07-4a2e-eeef-a4cdbe8f360b"
      },
      "source": [
        "X_train.dtype"
      ],
      "execution_count": 12,
      "outputs": [
        {
          "output_type": "execute_result",
          "data": {
            "text/plain": [
              "dtype('float64')"
            ]
          },
          "metadata": {
            "tags": []
          },
          "execution_count": 12
        }
      ]
    },
    {
      "cell_type": "code",
      "metadata": {
        "colab": {
          "base_uri": "https://localhost:8080/"
        },
        "id": "5E_1UBCDZHD5",
        "outputId": "9a445970-1e47-4d98-86be-024948c0b683"
      },
      "source": [
        "X_train.shape"
      ],
      "execution_count": 13,
      "outputs": [
        {
          "output_type": "execute_result",
          "data": {
            "text/plain": [
              "(1000, 16)"
            ]
          },
          "metadata": {
            "tags": []
          },
          "execution_count": 13
        }
      ]
    },
    {
      "cell_type": "markdown",
      "metadata": {
        "id": "dE73NQU-9Sd4"
      },
      "source": [
        "**Preparing Data Size For Training:** In this case, we have chosen first 1000 images from our selected classes to train our model."
      ]
    },
    {
      "cell_type": "code",
      "metadata": {
        "colab": {
          "base_uri": "https://localhost:8080/"
        },
        "id": "Q9FZbZ6RZJqJ",
        "outputId": "bc50e2db-d449-4b9a-ef73-2050fc6d6266"
      },
      "source": [
        "y_train_n=y_train_n[:1000]\n",
        "y_train=np.array(y_train_n).reshape(-1,)\n",
        "y_train[:10]"
      ],
      "execution_count": 14,
      "outputs": [
        {
          "output_type": "execute_result",
          "data": {
            "text/plain": [
              "array([1, 1, 0, 0, 1, 0, 1, 1, 1, 0], dtype=uint8)"
            ]
          },
          "metadata": {
            "tags": []
          },
          "execution_count": 14
        }
      ]
    },
    {
      "cell_type": "code",
      "metadata": {
        "colab": {
          "base_uri": "https://localhost:8080/"
        },
        "id": "0hQ3vpL3ZMIB",
        "outputId": "a22c62a5-6efd-4068-ee2a-55c8c8d0982b"
      },
      "source": [
        "y_train.shape"
      ],
      "execution_count": 15,
      "outputs": [
        {
          "output_type": "execute_result",
          "data": {
            "text/plain": [
              "(1000,)"
            ]
          },
          "metadata": {
            "tags": []
          },
          "execution_count": 15
        }
      ]
    },
    {
      "cell_type": "markdown",
      "metadata": {
        "id": "6HJZC1QM9ry9"
      },
      "source": [
        "**Preparing Quantum Neural Network:** For 4 by 4 image, we have to take 16 qubits because each image of 4 by 4 contains 16 features or 16 matrix element. So, to encode the data into qubit, we need 16 qubits. We apply amplitude encoding technique to encode our data. That means, the initial amplitude of quantum states of each qubit will be equal to the each element of the matrix of an image. After that, we have created the NN with CNOT and rotational gates, ry with measurement performed on first qubit. "
      ]
    },
    {
      "cell_type": "code",
      "metadata": {
        "id": "u2Jr-PQzZPmx"
      },
      "source": [
        "N=16 #no of qubits"
      ],
      "execution_count": 16,
      "outputs": []
    },
    {
      "cell_type": "code",
      "metadata": {
        "id": "ldpF3Kq2ZRfy"
      },
      "source": [
        "def feature_map(X): #amplitude encoding\n",
        "    q=QuantumRegister(N)\n",
        "    c=ClassicalRegister(1)\n",
        "    qc=QuantumCircuit(q,c)\n",
        "\n",
        "    for i, x in enumerate(X):\n",
        "        qc.rx(x, i)\n",
        "    return qc, c"
      ],
      "execution_count": 17,
      "outputs": []
    },
    {
      "cell_type": "code",
      "metadata": {
        "id": "kaSHnepPZUTp"
      },
      "source": [
        "def variational_circuit(qc, theta): #parameterized circuit\n",
        "    \n",
        "    for i in range(N-1):\n",
        "        qc.cx(i,i+1)\n",
        "    qc.cx(N-1, 0)\n",
        "    for i in range(N):\n",
        "        qc.ry(theta[i], i)\n",
        "    return qc"
      ],
      "execution_count": 18,
      "outputs": []
    },
    {
      "cell_type": "code",
      "metadata": {
        "id": "TQuxR_cqZWfh"
      },
      "source": [
        "def quantum_nn(x, theta, simulator=True): #Building QNN\n",
        "    qc,c=feature_map(x)\n",
        "    qc.barrier()\n",
        "    qc=variational_circuit(qc, theta)\n",
        "    qc.barrier()\n",
        "    qc.measure(0,c)\n",
        "\n",
        "\n",
        "    shots=1E4\n",
        "    backend=Aer.get_backend('qasm_simulator')\n",
        "    job=qiskit.execute(qc, backend, shots=shots)\n",
        "    result=job.result()\n",
        "    counts=result.get_counts()\n",
        "    \n",
        "    return counts['1']/shots"
      ],
      "execution_count": 19,
      "outputs": []
    },
    {
      "cell_type": "markdown",
      "metadata": {
        "id": "d1BW2TJM_rPA"
      },
      "source": [
        "**Loss Function:**"
      ]
    },
    {
      "cell_type": "code",
      "metadata": {
        "id": "IW0DLGa2ZY8B"
      },
      "source": [
        "def loss_function(prediction, target):\n",
        "    return (prediction-target)**2"
      ],
      "execution_count": 20,
      "outputs": []
    },
    {
      "cell_type": "markdown",
      "metadata": {
        "id": "SfpL3bn-_wXr"
      },
      "source": [
        "**Optimizer:** In this section, we created a gradient descent optimizer. Gradient descent optimizer is first order iterative optimizer. It moves its position based on its previous step and keeps updating the parameter of the parameterized circuit for reaching a local maximum of the function. \n",
        "\n",
        "**Reference:** https://www.analyticsvidhya.com/blog/2020/10/how-does-the-gradient-descent-algorithm-work-in-machine-learning/#:~:text=Gradient%20descent%20is%20an%20iterative,function%20at%20the%20current%20point."
      ]
    },
    {
      "cell_type": "code",
      "metadata": {
        "id": "hDwB0vNpZbj5"
      },
      "source": [
        "def gradient(x, y, theta):\n",
        "    \n",
        "    delta=0.01\n",
        "    grad=[]\n",
        "    for i in range(len(theta)):\n",
        "        dtheta=copy.copy(theta)\n",
        "        dtheta[i]+=delta\n",
        "        \n",
        "        pred1=quantum_nn(x, dtheta)\n",
        "        pred2=quantum_nn(x, theta)\n",
        "        \n",
        "        grad.append((loss_function(pred1,y)-loss_function(pred2,y))/delta)\n",
        "        \n",
        "        return np.array(grad)"
      ],
      "execution_count": 21,
      "outputs": []
    },
    {
      "cell_type": "markdown",
      "metadata": {
        "id": "76Q_10rSBYvN"
      },
      "source": [
        "**Function To Test Accuracy:** This function will check the amount of data that is correctly predicted."
      ]
    },
    {
      "cell_type": "code",
      "metadata": {
        "id": "qKTUVdZuZdt5"
      },
      "source": [
        "def accuracy(x, y, theta):\n",
        "    counter=0\n",
        "    for x_i, y_i in zip(x,y):\n",
        "        prediction= quantum_nn(x_i, theta)\n",
        "        \n",
        "        if prediction <0.5 and y_i==0:\n",
        "            counter +=1\n",
        "        elif prediction >=0.5 and y_i==1:\n",
        "            counter +=1\n",
        "    return counter/len(y)"
      ],
      "execution_count": 22,
      "outputs": []
    },
    {
      "cell_type": "markdown",
      "metadata": {
        "id": "6LQMO02kB22_"
      },
      "source": [
        "**Training Quantum Neural Network:** We have used learning rate of 0.01 to train our model. We have selected 20 epochs and our gradient descent optimizer in this case."
      ]
    },
    {
      "cell_type": "code",
      "metadata": {
        "colab": {
          "base_uri": "https://localhost:8080/"
        },
        "id": "c6Le7_qyZg3p",
        "outputId": "a12fd634-91cf-4d61-fcc5-9f959017e619"
      },
      "source": [
        "eta=0.01\n",
        "loss_list=[]\n",
        "theta=np.ones(N)\n",
        "print('Epoch \\t Loss \\t Training accuracy')\n",
        "\n",
        "for i in range(20):\n",
        "    loss_temp=[]\n",
        "    for X_i, y_i in zip(X_train, y_train):\n",
        "\n",
        "        prediction= quantum_nn(X_i, theta)\n",
        "        loss_temp.append(loss_function(prediction, y_i))\n",
        "        theta= theta- eta * gradient(X_i, y_i, theta)\n",
        "    \n",
        "    loss_list.append(np.mean(loss_temp))\n",
        "    acc = accuracy(X_train, y_train, theta)\n",
        "    \n",
        "    print(f'{i} \\t {loss_list[-1]:3f} \\t {acc:3f}')"
      ],
      "execution_count": 23,
      "outputs": [
        {
          "output_type": "stream",
          "text": [
            "Epoch \t Loss \t Training accuracy\n",
            "0 \t 0.259847 \t 0.486000\n",
            "1 \t 0.255834 \t 0.460000\n",
            "2 \t 0.251289 \t 0.450000\n",
            "3 \t 0.249444 \t 0.537000\n",
            "4 \t 0.248241 \t 0.523000\n",
            "5 \t 0.247026 \t 0.521000\n",
            "6 \t 0.247101 \t 0.509000\n",
            "7 \t 0.246791 \t 0.506000\n",
            "8 \t 0.247086 \t 0.504000\n",
            "9 \t 0.246219 \t 0.514000\n",
            "10 \t 0.247187 \t 0.517000\n",
            "11 \t 0.247321 \t 0.511000\n",
            "12 \t 0.246266 \t 0.524000\n",
            "13 \t 0.247454 \t 0.520000\n",
            "14 \t 0.247080 \t 0.510000\n",
            "15 \t 0.247735 \t 0.504000\n",
            "16 \t 0.246494 \t 0.507000\n",
            "17 \t 0.246886 \t 0.510000\n",
            "18 \t 0.246558 \t 0.513000\n",
            "19 \t 0.246363 \t 0.503000\n"
          ],
          "name": "stdout"
        }
      ]
    },
    {
      "cell_type": "markdown",
      "metadata": {
        "id": "HA8D4vYoCYb3"
      },
      "source": [
        "**Plotting Loss:** We are visualizing our loss result in the following section:"
      ]
    },
    {
      "cell_type": "code",
      "metadata": {
        "id": "Ooz2EIKrZjk7",
        "colab": {
          "base_uri": "https://localhost:8080/",
          "height": 279
        },
        "outputId": "5128bacf-2cb8-44ba-a890-548fbc13cf28"
      },
      "source": [
        "plt.plot(loss_list)\n",
        "plt.xlabel('Epoch')\n",
        "plt.ylabel('Loss')\n",
        "plt.show()"
      ],
      "execution_count": 24,
      "outputs": [
        {
          "output_type": "display_data",
          "data": {
            "image/png": "[encoded data removed]",
            "text/plain": [
              "<Figure size 432x288 with 1 Axes>"
            ]
          },
          "metadata": {
            "tags": [],
            "needs_background": "light"
          }
        }
      ]
    },
    {
      "cell_type": "markdown",
      "metadata": {
        "id": "0BWYAs5GCnxE"
      },
      "source": [
        "**Preparing Test Data:** We have to prepare the test data now. The structure of the data should be similar as training datasets."
      ]
    },
    {
      "cell_type": "code",
      "metadata": {
        "colab": {
          "base_uri": "https://localhost:8080/"
        },
        "id": "V004-KTC1p1m",
        "outputId": "38f9d1a9-eb93-4524-9ae2-37bbfa44bb5b"
      },
      "source": [
        "X_test= tf.image.rgb_to_grayscale(X_test)\n",
        "X_test=tf.image.resize(X_test, [4,4])\n",
        "X_test.shape"
      ],
      "execution_count": 25,
      "outputs": [
        {
          "output_type": "execute_result",
          "data": {
            "text/plain": [
              "TensorShape([10000, 4, 4, 1])"
            ]
          },
          "metadata": {
            "tags": []
          },
          "execution_count": 25
        }
      ]
    },
    {
      "cell_type": "code",
      "metadata": {
        "id": "4WTL7ZGX15Lm"
      },
      "source": [
        "x_test_n=[]\n",
        "y_test_n=[]\n",
        "for i in range(len(X_test)):\n",
        "    if y_test[i]==[0] or y_test[i]==[1]:\n",
        "        x_test_n.append(X_test[i])\n",
        "        y_test_n.append(y_test[i])"
      ],
      "execution_count": 26,
      "outputs": []
    },
    {
      "cell_type": "markdown",
      "metadata": {
        "id": "bFmH48PzC8H9"
      },
      "source": [
        "**Choosing Test Size:** We have chosen 50 images to test the performance of our model."
      ]
    },
    {
      "cell_type": "code",
      "metadata": {
        "id": "1-FAi46i2AHN"
      },
      "source": [
        "x_test_n=x_test_n[:50]\n",
        "X_test=np.array(x_test_n)"
      ],
      "execution_count": 27,
      "outputs": []
    },
    {
      "cell_type": "markdown",
      "metadata": {
        "id": "dxRQiirMDJeR"
      },
      "source": [
        "**Checking Test Data Size and Shape:**"
      ]
    },
    {
      "cell_type": "code",
      "metadata": {
        "colab": {
          "base_uri": "https://localhost:8080/"
        },
        "id": "S5_K0Lsp2DzV",
        "outputId": "205850d7-eeec-4a83-d7ee-65611c7973c4"
      },
      "source": [
        "len(X_test)"
      ],
      "execution_count": 28,
      "outputs": [
        {
          "output_type": "execute_result",
          "data": {
            "text/plain": [
              "50"
            ]
          },
          "metadata": {
            "tags": []
          },
          "execution_count": 28
        }
      ]
    },
    {
      "cell_type": "code",
      "metadata": {
        "colab": {
          "base_uri": "https://localhost:8080/"
        },
        "id": "1koqeWkl2SPM",
        "outputId": "3878b966-7ea3-4352-bc48-dfe1c92cda32"
      },
      "source": [
        "X_test.shape"
      ],
      "execution_count": 29,
      "outputs": [
        {
          "output_type": "execute_result",
          "data": {
            "text/plain": [
              "(50, 4, 4, 1)"
            ]
          },
          "metadata": {
            "tags": []
          },
          "execution_count": 29
        }
      ]
    },
    {
      "cell_type": "markdown",
      "metadata": {
        "id": "xH_YwMQVDUln"
      },
      "source": [
        "**Renormalizing Test Data:**"
      ]
    },
    {
      "cell_type": "code",
      "metadata": {
        "colab": {
          "base_uri": "https://localhost:8080/"
        },
        "id": "O5VYIb1b7NPU",
        "outputId": "44d8f94b-68b6-4ab1-b0c3-e87aef985010"
      },
      "source": [
        "X_test=np.array((X_test),dtype=\"float64\").reshape(-1, 16)\n",
        "X_test=X_test/255\n",
        "X_test[0:5]"
      ],
      "execution_count": 30,
      "outputs": [
        {
          "output_type": "execute_result",
          "data": {
            "text/plain": [
              "array([[0.75980392, 0.60784314, 0.64117647, 0.80980392, 0.7254902 ,\n",
              "        0.76470588, 0.76764706, 0.79509804, 0.83627451, 0.19411765,\n",
              "        0.24313725, 0.7372549 , 0.25      , 0.22156863, 0.22352941,\n",
              "        0.24411765],\n",
              "       [0.37941176, 0.24803922, 0.22352941, 0.16470588, 0.21862745,\n",
              "        0.44313725, 0.53529412, 0.23333333, 0.71960784, 0.12352941,\n",
              "        0.60196078, 0.62058824, 0.2254902 , 0.21764706, 0.25686275,\n",
              "        0.01764706],\n",
              "       [0.95588235, 0.52058824, 0.75392157, 0.79705882, 0.84607843,\n",
              "        0.43235294, 0.45098039, 0.95588235, 0.32254902, 0.24509804,\n",
              "        0.4254902 , 0.30294118, 0.59607843, 0.18039216, 0.36764706,\n",
              "        0.25392157],\n",
              "       [0.4745098 , 0.48921569, 0.50392157, 0.57352941, 0.48431373,\n",
              "        0.48823529, 0.77254902, 0.62745098, 0.45686275, 0.75980392,\n",
              "        0.52058824, 0.49607843, 0.49705882, 0.70588235, 0.50196078,\n",
              "        0.47843137],\n",
              "       [0.96862745, 0.96764706, 0.96470588, 0.96078431, 0.96176471,\n",
              "        0.88137255, 0.24313725, 0.96078431, 0.95980392, 0.70490196,\n",
              "        0.95098039, 0.96078431, 0.95490196, 0.95686275, 0.95490196,\n",
              "        0.95686275]])"
            ]
          },
          "metadata": {
            "tags": []
          },
          "execution_count": 30
        }
      ]
    },
    {
      "cell_type": "code",
      "metadata": {
        "colab": {
          "base_uri": "https://localhost:8080/"
        },
        "id": "cVl5QY9J7dhT",
        "outputId": "19731e00-25fe-4503-80d2-dfc3544ad043"
      },
      "source": [
        "X_test.dtype"
      ],
      "execution_count": 31,
      "outputs": [
        {
          "output_type": "execute_result",
          "data": {
            "text/plain": [
              "dtype('float64')"
            ]
          },
          "metadata": {
            "tags": []
          },
          "execution_count": 31
        }
      ]
    },
    {
      "cell_type": "code",
      "metadata": {
        "colab": {
          "base_uri": "https://localhost:8080/"
        },
        "id": "FKPG0haa7jha",
        "outputId": "c4c5d4b2-b492-4d4b-b8c7-ccdd09c83956"
      },
      "source": [
        "X_test.shape"
      ],
      "execution_count": 32,
      "outputs": [
        {
          "output_type": "execute_result",
          "data": {
            "text/plain": [
              "(50, 16)"
            ]
          },
          "metadata": {
            "tags": []
          },
          "execution_count": 32
        }
      ]
    },
    {
      "cell_type": "code",
      "metadata": {
        "colab": {
          "base_uri": "https://localhost:8080/"
        },
        "id": "p48Jpa177ltj",
        "outputId": "8e008b9c-d569-43dc-fac7-8c26dccf482f"
      },
      "source": [
        "y_test_n=y_test_n[:50]\n",
        "y_test=np.array(y_test_n).reshape(-1,)\n",
        "y_test[:10]"
      ],
      "execution_count": 33,
      "outputs": [
        {
          "output_type": "execute_result",
          "data": {
            "text/plain": [
              "array([0, 1, 1, 0, 0, 0, 1, 0, 0, 1], dtype=uint8)"
            ]
          },
          "metadata": {
            "tags": []
          },
          "execution_count": 33
        }
      ]
    },
    {
      "cell_type": "code",
      "metadata": {
        "colab": {
          "base_uri": "https://localhost:8080/"
        },
        "id": "UkpfGEzH7xWa",
        "outputId": "bddaf04f-8d11-4d5d-9f88-f8b72dae01b8"
      },
      "source": [
        "y_test.shape"
      ],
      "execution_count": 34,
      "outputs": [
        {
          "output_type": "execute_result",
          "data": {
            "text/plain": [
              "(50,)"
            ]
          },
          "metadata": {
            "tags": []
          },
          "execution_count": 34
        }
      ]
    },
    {
      "cell_type": "markdown",
      "metadata": {
        "id": "VZKQVA1LDa89"
      },
      "source": [
        "**Accuracy Testing:** After preparing our test data, we have tested the performace of our model and found with accuracy 46%."
      ]
    },
    {
      "cell_type": "code",
      "metadata": {
        "colab": {
          "base_uri": "https://localhost:8080/"
        },
        "id": "CO6Tx4yx73rz",
        "outputId": "58433530-ece1-4604-e9ce-2f2700408639"
      },
      "source": [
        "accuracy(X_test, y_test, theta)"
      ],
      "execution_count": 35,
      "outputs": [
        {
          "output_type": "execute_result",
          "data": {
            "text/plain": [
              "0.46"
            ]
          },
          "metadata": {
            "tags": []
          },
          "execution_count": 35
        }
      ]
    },
    {
      "cell_type": "markdown",
      "metadata": {
        "id": "2ZMrZOL4ypSL"
      },
      "source": [
        "**Further Improvement:** The accuracy of this model can be improved by better encoding technique. We can also increase data size for both test and training model. We can change the parameterized circuit and tweak and train the model further to check the outcome."
      ]
    }
  ]
}
