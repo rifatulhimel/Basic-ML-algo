{
 "cells": [
  {
   "cell_type": "markdown",
   "metadata": {
    "id": "bmdwWVPpOMDu"
   },
   "source": [
    "**Problem Statement:** There is a huge number of digital archival images of one of the influencial persons in the history of the world, Mahatma Gandhi. We want to process those images with computer vision and machine learning tools to identify the people in those images. Although classically it is an easy task. But as Havlicek V. et al. suggested in their paper (https://arxiv.org/abs/1804.11326) that we may get computational speedup if we can use efficient and effective quantum algorithm. So, our main goal of this project is to build an efficient multiclass quantum classifier to process images.\n",
    "\n",
    "**Project plan:** At first, we have chosen a publicly available dataset to run our algorithm and have found CIFAR-10 dataset is one of the suitable ones to run our experiments. The deatils of the dataset is given in the link: https://www.cs.toronto.edu/~kriz/cifar.html. From our theoretical understanding we have found that we can only perform binary classification within the hilbert space unless it is not an ensemble or any other state-of-the-art approach. So, we can only classify 2 classes at a time. Therefore, to build a multiclass classifier, we have taken 2 classes multiple times. In our project, we have three different team who have worked on 3 different platforms. Qiskit team has 3 members. IBM qiskit simulator has two different approachs. One approach is pretty straignt forward. We encode our data to the qubits, use parameterized circuit, measurement and cost function to train our quantum circuit and then with the optimized parameter from the optimizer, we performe our test on the test dataset. Another approach is given in the link: (https://github.com/Qiskit/qiskit-machine-learning/blob/stable/0.2/docs/tutorials/05_torch_connector.ipynb). In this approach, a Qiskit's TorchConnector class is introduced. TorchConnector allows a natural integration of any NeuralNetwork from Qiskit Machine Learning into a PyTorch workflow.TorchConnector takes a Qiskit NeuralNetwork and makes it available as a PyTorch Module. The resulting module can be seamlessly incorporated into PyTorch classical architectures and trained jointly without additional considerations, enabling the development and testing of novel hybrid quantum-classical machine learning architectures.We have performed our experiments on the data with both of the approachs. \n",
    "\n"
   ]
  },
  {
   "cell_type": "markdown",
   "metadata": {
    "id": "7-qqswAJbMnH"
   },
   "source": [
    "**QISKIT Platform (Approach 2):** In this approach, we has embedded a (Quantum) NeuralNetwork into a target PyTorch workflow to classify CIFAR-10 dataset in a hybrid quantum-classical manner.\n",
    "\n",
    "**Inspiration:** https://qiskit.org/textbook/ch-machine-learning/machine-learning-qiskit-pytorch.html\n"
   ]
  },
  {
   "cell_type": "markdown",
   "metadata": {
    "id": "WoePwSpTjpFq"
   },
   "source": [
    "**Setting up our environment:** To perform our classification task, first we need to install qiskit, pylatexenc and qiskit_machine_learning."
   ]
  },
  {
   "cell_type": "code",
   "execution_count": 1,
   "metadata": {
    "colab": {
     "base_uri": "https://localhost:8080/"
    },
    "id": "Rji5OzHxLW1y",
    "outputId": "0e27eb15-f2f0-430c-935b-092edaadb672"
   },
   "outputs": [
    {
     "name": "stdout",
     "output_type": "stream",
     "text": [
      "Requirement already satisfied: qiskit in /usr/local/lib/python3.7/dist-packages (0.29.0)\n",
      "Requirement already satisfied: qiskit-ignis==0.6.0 in /usr/local/lib/python3.7/dist-packages (from qiskit) (0.6.0)\n",
      "Requirement already satisfied: qiskit-ibmq-provider==0.16.0 in /usr/local/lib/python3.7/dist-packages (from qiskit) (0.16.0)\n",
      "Requirement already satisfied: qiskit-aqua==0.9.4 in /usr/local/lib/python3.7/dist-packages (from qiskit) (0.9.4)\n",
      "Requirement already satisfied: qiskit-aer==0.8.2 in /usr/local/lib/python3.7/dist-packages (from qiskit) (0.8.2)\n",
      "Requirement already satisfied: qiskit-terra==0.18.1 in /usr/local/lib/python3.7/dist-packages (from qiskit) (0.18.1)\n",
      "Requirement already satisfied: scipy>=1.0 in /usr/local/lib/python3.7/dist-packages (from qiskit-aer==0.8.2->qiskit) (1.4.1)\n",
      "Requirement already satisfied: pybind11>=2.6 in /usr/local/lib/python3.7/dist-packages (from qiskit-aer==0.8.2->qiskit) (2.7.1)\n",
      "Requirement already satisfied: numpy>=1.16.3 in /usr/local/lib/python3.7/dist-packages (from qiskit-aer==0.8.2->qiskit) (1.19.5)\n",
      "Requirement already satisfied: retworkx>=0.8.0 in /usr/local/lib/python3.7/dist-packages (from qiskit-aqua==0.9.4->qiskit) (0.9.0)\n",
      "Requirement already satisfied: fastdtw<=0.3.4 in /usr/local/lib/python3.7/dist-packages (from qiskit-aqua==0.9.4->qiskit) (0.3.4)\n",
      "Requirement already satisfied: dlx<=1.0.4 in /usr/local/lib/python3.7/dist-packages (from qiskit-aqua==0.9.4->qiskit) (1.0.4)\n",
      "Requirement already satisfied: scikit-learn>=0.20.0 in /usr/local/lib/python3.7/dist-packages (from qiskit-aqua==0.9.4->qiskit) (0.22.2.post1)\n",
      "Requirement already satisfied: yfinance<0.1.63 in /usr/local/lib/python3.7/dist-packages (from qiskit-aqua==0.9.4->qiskit) (0.1.62)\n",
      "Requirement already satisfied: quandl in /usr/local/lib/python3.7/dist-packages (from qiskit-aqua==0.9.4->qiskit) (3.6.1)\n",
      "Requirement already satisfied: h5py<3.3.0 in /usr/local/lib/python3.7/dist-packages (from qiskit-aqua==0.9.4->qiskit) (3.1.0)\n",
      "Requirement already satisfied: sympy>=1.3 in /usr/local/lib/python3.7/dist-packages (from qiskit-aqua==0.9.4->qiskit) (1.7.1)\n",
      "Requirement already satisfied: setuptools>=40.1.0 in /usr/local/lib/python3.7/dist-packages (from qiskit-aqua==0.9.4->qiskit) (57.4.0)\n",
      "Requirement already satisfied: pandas in /usr/local/lib/python3.7/dist-packages (from qiskit-aqua==0.9.4->qiskit) (1.1.5)\n",
      "Requirement already satisfied: psutil>=5 in /usr/local/lib/python3.7/dist-packages (from qiskit-aqua==0.9.4->qiskit) (5.4.8)\n",
      "Requirement already satisfied: docplex>=2.21.207 in /usr/local/lib/python3.7/dist-packages (from qiskit-aqua==0.9.4->qiskit) (2.21.207)\n",
      "Requirement already satisfied: python-dateutil>=2.8.0 in /usr/local/lib/python3.7/dist-packages (from qiskit-ibmq-provider==0.16.0->qiskit) (2.8.2)\n",
      "Requirement already satisfied: requests>=2.19 in /usr/local/lib/python3.7/dist-packages (from qiskit-ibmq-provider==0.16.0->qiskit) (2.23.0)\n",
      "Requirement already satisfied: urllib3>=1.21.1 in /usr/local/lib/python3.7/dist-packages (from qiskit-ibmq-provider==0.16.0->qiskit) (1.24.3)\n",
      "Requirement already satisfied: websocket-client>=1.0.1 in /usr/local/lib/python3.7/dist-packages (from qiskit-ibmq-provider==0.16.0->qiskit) (1.2.1)\n",
      "Requirement already satisfied: requests-ntlm>=1.1.0 in /usr/local/lib/python3.7/dist-packages (from qiskit-ibmq-provider==0.16.0->qiskit) (1.1.0)\n",
      "Requirement already satisfied: symengine>0.7 in /usr/local/lib/python3.7/dist-packages (from qiskit-terra==0.18.1->qiskit) (0.7.2)\n",
      "Requirement already satisfied: python-constraint>=1.4 in /usr/local/lib/python3.7/dist-packages (from qiskit-terra==0.18.1->qiskit) (1.4.0)\n",
      "Requirement already satisfied: fastjsonschema>=2.10 in /usr/local/lib/python3.7/dist-packages (from qiskit-terra==0.18.1->qiskit) (2.15.1)\n",
      "Requirement already satisfied: tweedledum<2.0,>=1.1 in /usr/local/lib/python3.7/dist-packages (from qiskit-terra==0.18.1->qiskit) (1.1.0)\n",
      "Requirement already satisfied: jsonschema>=2.6 in /usr/local/lib/python3.7/dist-packages (from qiskit-terra==0.18.1->qiskit) (2.6.0)\n",
      "Requirement already satisfied: ply>=3.10 in /usr/local/lib/python3.7/dist-packages (from qiskit-terra==0.18.1->qiskit) (3.11)\n",
      "Requirement already satisfied: dill>=0.3 in /usr/local/lib/python3.7/dist-packages (from qiskit-terra==0.18.1->qiskit) (0.3.4)\n",
      "Requirement already satisfied: six in /usr/local/lib/python3.7/dist-packages (from docplex>=2.21.207->qiskit-aqua==0.9.4->qiskit) (1.15.0)\n",
      "Requirement already satisfied: cached-property in /usr/local/lib/python3.7/dist-packages (from h5py<3.3.0->qiskit-aqua==0.9.4->qiskit) (1.5.2)\n",
      "Requirement already satisfied: certifi>=2017.4.17 in /usr/local/lib/python3.7/dist-packages (from requests>=2.19->qiskit-ibmq-provider==0.16.0->qiskit) (2021.5.30)\n",
      "Requirement already satisfied: idna<3,>=2.5 in /usr/local/lib/python3.7/dist-packages (from requests>=2.19->qiskit-ibmq-provider==0.16.0->qiskit) (2.10)\n",
      "Requirement already satisfied: chardet<4,>=3.0.2 in /usr/local/lib/python3.7/dist-packages (from requests>=2.19->qiskit-ibmq-provider==0.16.0->qiskit) (3.0.4)\n",
      "Requirement already satisfied: ntlm-auth>=1.0.2 in /usr/local/lib/python3.7/dist-packages (from requests-ntlm>=1.1.0->qiskit-ibmq-provider==0.16.0->qiskit) (1.5.0)\n",
      "Requirement already satisfied: cryptography>=1.3 in /usr/local/lib/python3.7/dist-packages (from requests-ntlm>=1.1.0->qiskit-ibmq-provider==0.16.0->qiskit) (3.4.7)\n",
      "Requirement already satisfied: cffi>=1.12 in /usr/local/lib/python3.7/dist-packages (from cryptography>=1.3->requests-ntlm>=1.1.0->qiskit-ibmq-provider==0.16.0->qiskit) (1.14.6)\n",
      "Requirement already satisfied: pycparser in /usr/local/lib/python3.7/dist-packages (from cffi>=1.12->cryptography>=1.3->requests-ntlm>=1.1.0->qiskit-ibmq-provider==0.16.0->qiskit) (2.20)\n",
      "Requirement already satisfied: joblib>=0.11 in /usr/local/lib/python3.7/dist-packages (from scikit-learn>=0.20.0->qiskit-aqua==0.9.4->qiskit) (1.0.1)\n",
      "Requirement already satisfied: mpmath>=0.19 in /usr/local/lib/python3.7/dist-packages (from sympy>=1.3->qiskit-aqua==0.9.4->qiskit) (1.2.1)\n",
      "Requirement already satisfied: multitasking>=0.0.7 in /usr/local/lib/python3.7/dist-packages (from yfinance<0.1.63->qiskit-aqua==0.9.4->qiskit) (0.0.9)\n",
      "Requirement already satisfied: lxml>=4.5.1 in /usr/local/lib/python3.7/dist-packages (from yfinance<0.1.63->qiskit-aqua==0.9.4->qiskit) (4.6.3)\n",
      "Requirement already satisfied: pytz>=2017.2 in /usr/local/lib/python3.7/dist-packages (from pandas->qiskit-aqua==0.9.4->qiskit) (2018.9)\n",
      "Requirement already satisfied: more-itertools in /usr/local/lib/python3.7/dist-packages (from quandl->qiskit-aqua==0.9.4->qiskit) (8.8.0)\n",
      "Requirement already satisfied: inflection>=0.3.1 in /usr/local/lib/python3.7/dist-packages (from quandl->qiskit-aqua==0.9.4->qiskit) (0.5.1)\n",
      "Requirement already satisfied: pylatexenc in /usr/local/lib/python3.7/dist-packages (2.10)\n"
     ]
    }
   ],
   "source": [
    "!pip install qiskit\n",
    "!pip install pylatexenc"
   ]
  },
  {
   "cell_type": "code",
   "execution_count": 3,
   "metadata": {
    "colab": {
     "base_uri": "https://localhost:8080/"
    },
    "id": "qozntkFcMJuW",
    "outputId": "cfb9b274-12ef-42f3-b811-8e47120be70b"
   },
   "outputs": [
    {
     "name": "stdout",
     "output_type": "stream",
     "text": [
      "Requirement already satisfied: qiskit_machine_learning in /usr/local/lib/python3.7/dist-packages (0.2.0)\n",
      "Requirement already satisfied: fastdtw in /usr/local/lib/python3.7/dist-packages (from qiskit_machine_learning) (0.3.4)\n",
      "Requirement already satisfied: qiskit-terra>=0.18.0 in /usr/local/lib/python3.7/dist-packages (from qiskit_machine_learning) (0.18.1)\n",
      "Requirement already satisfied: psutil>=5 in /usr/local/lib/python3.7/dist-packages (from qiskit_machine_learning) (5.4.8)\n",
      "Requirement already satisfied: scikit-learn>=0.20.0 in /usr/local/lib/python3.7/dist-packages (from qiskit_machine_learning) (0.22.2.post1)\n",
      "Requirement already satisfied: numpy>=1.17 in /usr/local/lib/python3.7/dist-packages (from qiskit_machine_learning) (1.19.5)\n",
      "Requirement already satisfied: scipy>=1.4 in /usr/local/lib/python3.7/dist-packages (from qiskit_machine_learning) (1.4.1)\n",
      "Requirement already satisfied: setuptools>=40.1.0 in /usr/local/lib/python3.7/dist-packages (from qiskit_machine_learning) (57.4.0)\n",
      "Requirement already satisfied: python-constraint>=1.4 in /usr/local/lib/python3.7/dist-packages (from qiskit-terra>=0.18.0->qiskit_machine_learning) (1.4.0)\n",
      "Requirement already satisfied: ply>=3.10 in /usr/local/lib/python3.7/dist-packages (from qiskit-terra>=0.18.0->qiskit_machine_learning) (3.11)\n",
      "Requirement already satisfied: python-dateutil>=2.8.0 in /usr/local/lib/python3.7/dist-packages (from qiskit-terra>=0.18.0->qiskit_machine_learning) (2.8.2)\n",
      "Requirement already satisfied: sympy>=1.3 in /usr/local/lib/python3.7/dist-packages (from qiskit-terra>=0.18.0->qiskit_machine_learning) (1.7.1)\n",
      "Requirement already satisfied: symengine>0.7 in /usr/local/lib/python3.7/dist-packages (from qiskit-terra>=0.18.0->qiskit_machine_learning) (0.7.2)\n",
      "Requirement already satisfied: dill>=0.3 in /usr/local/lib/python3.7/dist-packages (from qiskit-terra>=0.18.0->qiskit_machine_learning) (0.3.4)\n",
      "Requirement already satisfied: jsonschema>=2.6 in /usr/local/lib/python3.7/dist-packages (from qiskit-terra>=0.18.0->qiskit_machine_learning) (2.6.0)\n",
      "Requirement already satisfied: fastjsonschema>=2.10 in /usr/local/lib/python3.7/dist-packages (from qiskit-terra>=0.18.0->qiskit_machine_learning) (2.15.1)\n",
      "Requirement already satisfied: tweedledum<2.0,>=1.1 in /usr/local/lib/python3.7/dist-packages (from qiskit-terra>=0.18.0->qiskit_machine_learning) (1.1.0)\n",
      "Requirement already satisfied: retworkx>=0.9.0 in /usr/local/lib/python3.7/dist-packages (from qiskit-terra>=0.18.0->qiskit_machine_learning) (0.9.0)\n",
      "Requirement already satisfied: six>=1.5 in /usr/local/lib/python3.7/dist-packages (from python-dateutil>=2.8.0->qiskit-terra>=0.18.0->qiskit_machine_learning) (1.15.0)\n",
      "Requirement already satisfied: joblib>=0.11 in /usr/local/lib/python3.7/dist-packages (from scikit-learn>=0.20.0->qiskit_machine_learning) (1.0.1)\n",
      "Requirement already satisfied: mpmath>=0.19 in /usr/local/lib/python3.7/dist-packages (from sympy>=1.3->qiskit-terra>=0.18.0->qiskit_machine_learning) (1.2.1)\n"
     ]
    }
   ],
   "source": [
    "!pip install qiskit_machine_learning"
   ]
  },
  {
   "cell_type": "markdown",
   "metadata": {
    "id": "uropJFQ_kI_v"
   },
   "source": [
    "**Importing Required Libraries:** We have to import all the reuired libraries and functions first to download, manipulate, train-test and optimize the quantum system to reach the desired outcome."
   ]
  },
  {
   "cell_type": "code",
   "execution_count": 2,
   "metadata": {
    "id": "YnDJmTtDLsZQ"
   },
   "outputs": [],
   "source": [
    "from torch import cat, no_grad\n",
    "from torch.utils.data import DataLoader\n",
    "from torchvision import datasets, transforms\n",
    "import torch.optim as optim\n",
    "from torch.nn import (Module, Conv2d, Linear, Dropout2d, NLLLoss,\n",
    "                     MaxPool2d, Flatten, Sequential, ReLU)\n",
    "import torch.nn.functional as F"
   ]
  },
  {
   "cell_type": "code",
   "execution_count": 4,
   "metadata": {
    "id": "AndU5WAqMKiM"
   },
   "outputs": [],
   "source": [
    "import numpy as np\n",
    "import matplotlib.pyplot as plt\n",
    "\n",
    "from torch import Tensor\n",
    "from torch.nn import Linear, CrossEntropyLoss, MSELoss\n",
    "from torch.optim import LBFGS\n",
    "import torch\n",
    "import torchvision\n",
    "import torchvision.transforms as transforms\n",
    "import torch.nn as nn\n",
    "import torch.nn.functional as F\n",
    "from qiskit  import Aer, QuantumCircuit\n",
    "from qiskit.utils import QuantumInstance\n",
    "from qiskit.opflow import AerPauliExpectation\n",
    "from qiskit.circuit import Parameter\n",
    "from qiskit.circuit.library import RealAmplitudes, ZZFeatureMap\n",
    "from qiskit_machine_learning.neural_networks import CircuitQNN, TwoLayerQNN\n",
    "from qiskit_machine_learning.connectors import TorchConnector"
   ]
  },
  {
   "cell_type": "markdown",
   "metadata": {
    "id": "aN9Ke-zakx75"
   },
   "source": [
    "**Data Accumulation and Defining Dataloader:** We take advantage of the torchvision API to directly load CIFAR10 dataset and define torch DataLoaders for train and test. We have downloaded our data and assigned it to X_train and X_test. We also performed *Grayscale* transformation and image resizing to adjust our image to do further processing. Then, we define our classes. We checked the data size, shape and labels. After that, as promised earlier, we took two of the ten classes from the data to do classification. In this experiement, we have chosen first two classes, Airplane and Automobile."
   ]
  },
  {
   "cell_type": "code",
   "execution_count": 6,
   "metadata": {
    "colab": {
     "base_uri": "https://localhost:8080/"
    },
    "id": "mrjIZ68BMWJd",
    "outputId": "48c3956c-4c8a-4c8d-fead-cae0ab79dc51"
   },
   "outputs": [
    {
     "name": "stdout",
     "output_type": "stream",
     "text": [
      "Files already downloaded and verified\n"
     ]
    }
   ],
   "source": [
    "batch_size = 1\n",
    "import torchvision as tv\n",
    "import torch.utils.data as data\n",
    "\n",
    "trainTransform  = tv.transforms.Compose([tv.transforms.Grayscale(num_output_channels=1),transforms.Resize(size=(28, 28)),\n",
    "                                    tv.transforms.ToTensor(), \n",
    "                                    transforms.Normalize(mean=[0.5], std=[0.5])])\n",
    "X_train        = tv.datasets.CIFAR10(root='./data', train=True, download=True, transform=trainTransform)"
   ]
  },
  {
   "cell_type": "markdown",
   "metadata": {
    "id": "TU88638zm9AM"
   },
   "source": [
    "**Assigning Classes:**"
   ]
  },
  {
   "cell_type": "code",
   "execution_count": 7,
   "metadata": {
    "id": "_cZadW5jM2-O"
   },
   "outputs": [],
   "source": [
    "classes=['airplane','automobile','bird', 'cat', 'deer', 'dog', 'frog', 'horse', 'ship', 'truck']"
   ]
  },
  {
   "cell_type": "markdown",
   "metadata": {
    "id": "aJzYqdUunOas"
   },
   "source": [
    "**Data Pattern Recognition:**"
   ]
  },
  {
   "cell_type": "code",
   "execution_count": 8,
   "metadata": {
    "colab": {
     "base_uri": "https://localhost:8080/"
    },
    "id": "QI-rnEXrUPcO",
    "outputId": "b11e8c27-1480-4ecf-f508-e2d33c275daf"
   },
   "outputs": [
    {
     "data": {
      "text/plain": [
       "50000"
      ]
     },
     "execution_count": 8,
     "metadata": {
      "tags": []
     },
     "output_type": "execute_result"
    }
   ],
   "source": [
    "len(X_train)"
   ]
  },
  {
   "cell_type": "code",
   "execution_count": 9,
   "metadata": {
    "colab": {
     "base_uri": "https://localhost:8080/"
    },
    "id": "TIYh_LCFkJ85",
    "outputId": "93e333b7-6dc2-4aae-f474-133e99abf0f3"
   },
   "outputs": [
    {
     "data": {
      "text/plain": [
       "(tensor([[[-0.6000, -0.6941, -0.6392, -0.4980, -0.3176, -0.1686, -0.1137,\n",
       "           -0.0745, -0.0980, -0.2078, -0.1686, -0.1216, -0.1529, -0.2000,\n",
       "           -0.1608, -0.1922, -0.1922, -0.1137, -0.1451, -0.1608, -0.1373,\n",
       "           -0.0510,  0.0275,  0.0353,  0.0196,  0.0196, -0.0196, -0.0353],\n",
       "          [-0.8667, -0.9529, -0.8039, -0.5922, -0.3647, -0.2471, -0.2706,\n",
       "           -0.2863, -0.3412, -0.3882, -0.3961, -0.3569, -0.3490, -0.3333,\n",
       "           -0.3098, -0.3647, -0.3412, -0.2471, -0.2549, -0.2314, -0.2706,\n",
       "           -0.2863, -0.2314, -0.2078, -0.1843, -0.2392, -0.2863, -0.2941],\n",
       "          [-0.8196, -0.8275, -0.6078, -0.4353, -0.3098, -0.2706, -0.3412,\n",
       "           -0.3569, -0.3176, -0.3255, -0.3647, -0.2549, -0.2314, -0.2471,\n",
       "           -0.2863, -0.3020, -0.2941, -0.2549, -0.2000, -0.1686, -0.2235,\n",
       "           -0.2549, -0.2392, -0.2000, -0.1843, -0.2627, -0.2784, -0.3882],\n",
       "          [-0.7569, -0.6784, -0.4353, -0.3569, -0.3490, -0.3412, -0.3882,\n",
       "           -0.3725, -0.2627, -0.3020, -0.3725, -0.2627, -0.2549, -0.3333,\n",
       "           -0.3882, -0.3333, -0.2863, -0.2627, -0.1765, -0.1765, -0.1922,\n",
       "           -0.2392, -0.2549, -0.2706, -0.2941, -0.3647, -0.4118, -0.5216],\n",
       "          [-0.6314, -0.5451, -0.3569, -0.2784, -0.2863, -0.2941, -0.3412,\n",
       "           -0.3725, -0.2784, -0.3412, -0.4039, -0.3569, -0.3490, -0.4196,\n",
       "           -0.4510, -0.4196, -0.4275, -0.3804, -0.3176, -0.3647, -0.2706,\n",
       "           -0.1922, -0.2392, -0.3333, -0.4196, -0.5529, -0.7176, -0.7647],\n",
       "          [-0.4588, -0.3804, -0.2941, -0.2549, -0.2549, -0.3098, -0.3412,\n",
       "           -0.3020, -0.2392, -0.3255, -0.3647, -0.4667, -0.5373, -0.5686,\n",
       "           -0.4980, -0.5137, -0.6235, -0.6078, -0.5451, -0.3333, -0.3098,\n",
       "           -0.1922, -0.1608, -0.3176, -0.4510, -0.5059, -0.5608, -0.6549],\n",
       "          [-0.3255, -0.3098, -0.2235, -0.2157, -0.2706, -0.2549, -0.2549,\n",
       "           -0.2627, -0.2314, -0.2941, -0.4902, -0.6706, -0.7490, -0.6471,\n",
       "           -0.1137, -0.0667, -0.4667, -0.6471, -0.5843, -0.3647, -0.3882,\n",
       "           -0.2392, -0.1451, -0.2627, -0.3804, -0.4196, -0.3176, -0.3804],\n",
       "          [-0.1608, -0.2392, -0.2157, -0.2627, -0.2941, -0.2706, -0.2549,\n",
       "           -0.2706, -0.2078, -0.3961, -0.6706, -0.7176, -0.7176, -0.5843,\n",
       "           -0.0588, -0.0353, -0.2784, -0.5059, -0.5843, -0.5922, -0.6078,\n",
       "           -0.3882, -0.1922, -0.2078, -0.2392, -0.2784, -0.2706, -0.2235],\n",
       "          [-0.0118, -0.0353, -0.0745, -0.1843, -0.2314, -0.2314, -0.2157,\n",
       "           -0.1686, -0.2941, -0.5686, -0.6471, -0.6157, -0.4980, -0.4196,\n",
       "           -0.2863, -0.3098, -0.2706, -0.3412, -0.3490, -0.4118, -0.5529,\n",
       "           -0.4118, -0.2235, -0.2157, -0.2078, -0.2078, -0.2471, -0.2235],\n",
       "          [-0.0275, -0.0510, -0.0824, -0.1608, -0.1843, -0.1922, -0.2314,\n",
       "           -0.1451, -0.3490, -0.4980, -0.4353, -0.3647, -0.1765, -0.1922,\n",
       "           -0.1529, -0.2235, -0.1529, -0.0902,  0.1216,  0.0431, -0.3412,\n",
       "           -0.3882, -0.2157, -0.2235, -0.2000, -0.2000, -0.2392, -0.2157],\n",
       "          [-0.0667, -0.1059, -0.1294, -0.1529, -0.2000, -0.3490, -0.4196,\n",
       "           -0.2784, -0.3804, -0.2314, -0.0667,  0.0118,  0.1608,  0.0667,\n",
       "            0.1451,  0.1216,  0.1451,  0.1686,  0.2863,  0.1529, -0.2314,\n",
       "           -0.3412, -0.2078, -0.2078, -0.2000, -0.2157, -0.2314, -0.2157],\n",
       "          [ 0.0039, -0.0745, -0.1216, -0.1451, -0.3020, -0.5216, -0.5294,\n",
       "           -0.4824, -0.3882,  0.0353,  0.2157,  0.1843,  0.4902,  0.4353,\n",
       "            0.4431,  0.4196,  0.3647,  0.3333,  0.3098,  0.2157, -0.0039,\n",
       "           -0.1373, -0.2078, -0.2078, -0.2157, -0.2000, -0.2157, -0.2000],\n",
       "          [-0.0353, -0.0745, -0.1137, -0.1608, -0.4118, -0.5373, -0.4667,\n",
       "           -0.4980, -0.2000,  0.2078,  0.0980,  0.1608,  0.5373,  0.7020,\n",
       "            0.7020,  0.6471,  0.5922,  0.5059,  0.5373,  0.5373,  0.4980,\n",
       "            0.3176, -0.1137, -0.2157, -0.2078, -0.1922, -0.2235, -0.2157],\n",
       "          [-0.0667, -0.1373, -0.1451, -0.1765, -0.4588, -0.6000, -0.5137,\n",
       "           -0.3176,  0.2392,  0.2549, -0.0980,  0.1529,  0.3725,  0.7725,\n",
       "            0.9294,  0.8824,  0.7569,  0.6549,  0.5765,  0.6471,  0.8275,\n",
       "            0.6471, -0.0275, -0.2078, -0.2078, -0.2314, -0.2471, -0.2549],\n",
       "          [-0.0824, -0.1843, -0.1608, -0.1843, -0.4667, -0.5216, -0.3569,\n",
       "            0.1294,  0.5765,  0.2000,  0.0118,  0.2784,  0.4824,  0.7490,\n",
       "            0.8275,  0.7569,  0.6706,  0.5373,  0.2392,  0.3882,  0.7961,\n",
       "            0.5922,  0.0588, -0.0431, -0.0588, -0.0980, -0.2000, -0.2863],\n",
       "          [-0.1059, -0.2471, -0.1843, -0.1843, -0.3333, -0.3961, -0.0431,\n",
       "            0.5686,  0.6941,  0.1216,  0.2863,  0.5843,  0.5843,  0.5922,\n",
       "            0.5059,  0.3020,  0.2000,  0.2627,  0.3098,  0.3412,  0.6549,\n",
       "            0.5451, -0.0039, -0.1529, -0.1686, -0.1373, -0.1137, -0.1373],\n",
       "          [-0.1137, -0.3176, -0.2706, -0.2314, -0.2471, -0.2392,  0.3725,\n",
       "            0.8196,  0.6314,  0.0980,  0.3490,  0.5922,  0.2392,  0.0980,\n",
       "            0.0039, -0.0353, -0.0353,  0.0510,  0.3647,  0.6000,  0.7333,\n",
       "            0.5451, -0.0902, -0.3098, -0.3333, -0.3490, -0.2863, -0.0667],\n",
       "          [-0.1529, -0.2784, -0.2392, -0.2392, -0.2000,  0.2157,  0.7333,\n",
       "            0.7255,  0.4196,  0.0431,  0.1529,  0.3020, -0.1059, -0.1686,\n",
       "           -0.1451, -0.0039, -0.0980, -0.1216,  0.1843,  0.5451,  0.5843,\n",
       "            0.4196, -0.1137, -0.3725, -0.3490, -0.3490, -0.3647, -0.1216],\n",
       "          [-0.1608, -0.3020, -0.2627, -0.2784, -0.1608,  0.1216,  0.3804,\n",
       "            0.4039,  0.2471,  0.0353,  0.0824,  0.2235, -0.0510, -0.1608,\n",
       "           -0.0980, -0.0510, -0.1529, -0.1608, -0.0667,  0.0824,  0.0745,\n",
       "            0.0745, -0.1294, -0.2941, -0.2235, -0.1843, -0.1922,  0.0588],\n",
       "          [-0.1686, -0.2863, -0.2392, -0.2392, -0.1294, -0.1451, -0.0824,\n",
       "            0.1686,  0.1765,  0.2157,  0.2549,  0.1843, -0.0275, -0.1608,\n",
       "           -0.1373, -0.1059, -0.1059, -0.1294, -0.1373, -0.1216, -0.1373,\n",
       "           -0.1765, -0.1686, -0.1373, -0.1294, -0.1451, -0.0588,  0.2941],\n",
       "          [-0.1451, -0.2392, -0.2078, -0.1294, -0.0980, -0.1216, -0.1137,\n",
       "            0.0353,  0.0902,  0.2627,  0.3882,  0.3725,  0.0667, -0.1373,\n",
       "           -0.1529, -0.1686, -0.0824, -0.0824, -0.1373, -0.2941, -0.4196,\n",
       "           -0.4118, -0.1922, -0.0431, -0.1373, -0.2078,  0.0196,  0.2863],\n",
       "          [-0.0980, -0.2627, -0.2078, -0.1451, -0.1137, -0.0745, -0.0196,\n",
       "            0.0902,  0.1451,  0.1373,  0.4039,  0.4039,  0.2706,  0.1529,\n",
       "           -0.1294, -0.2549, -0.1451, -0.0980, -0.2549, -0.4745, -0.4902,\n",
       "           -0.3412, -0.1059, -0.0980, -0.2078, -0.1137,  0.2078,  0.0667],\n",
       "          [ 0.0745, -0.1765, -0.2392, -0.2549, -0.2314, -0.1294, -0.0431,\n",
       "           -0.0039,  0.0353, -0.0824,  0.0039,  0.0510, -0.0275, -0.0196,\n",
       "           -0.1294, -0.1922, -0.2235, -0.2471, -0.2392, -0.1843, -0.1216,\n",
       "           -0.1059, -0.1451, -0.2157, -0.1765,  0.1451,  0.3569, -0.0902],\n",
       "          [ 0.2706,  0.0196, -0.1529, -0.2549, -0.2706, -0.2000, -0.1373,\n",
       "           -0.1373, -0.1922, -0.2706, -0.1922, -0.0745, -0.1373, -0.2471,\n",
       "           -0.2392, -0.1137, -0.1294, -0.1843, -0.1529, -0.0902, -0.0980,\n",
       "           -0.0824, -0.1451, -0.2000, -0.0118,  0.3176,  0.1529, -0.3255],\n",
       "          [ 0.3725,  0.1137,  0.0275, -0.0824, -0.2000, -0.1922, -0.1216,\n",
       "           -0.1451, -0.2157, -0.2706, -0.1843, -0.1451, -0.2000, -0.2706,\n",
       "           -0.2706, -0.1765, -0.1059, -0.1294, -0.2235, -0.2157, -0.1373,\n",
       "           -0.1059, -0.1137, -0.1843,  0.0431,  0.2706, -0.2706, -0.6706],\n",
       "          [ 0.3569,  0.2000,  0.1765,  0.0980,  0.0039, -0.0667, -0.0980,\n",
       "           -0.1686, -0.2235, -0.2000, -0.1608, -0.1529, -0.2078, -0.2471,\n",
       "           -0.2314, -0.1529, -0.1137, -0.1059, -0.1922, -0.2941, -0.2392,\n",
       "           -0.1373, -0.1843, -0.4275, -0.2863,  0.0510, -0.4980, -0.7412],\n",
       "          [ 0.1765,  0.0902,  0.1686,  0.1922,  0.1922,  0.1451,  0.0275,\n",
       "           -0.1137, -0.2000, -0.1686, -0.1686, -0.1843, -0.2000, -0.2157,\n",
       "           -0.1843, -0.1529, -0.1529, -0.1608, -0.2157, -0.3098, -0.3412,\n",
       "           -0.2863, -0.4275, -0.7176, -0.5216,  0.0275, -0.3412, -0.5686],\n",
       "          [ 0.1608,  0.0902,  0.1686,  0.2392,  0.3725,  0.4118,  0.3333,\n",
       "            0.2000,  0.0745,  0.0275,  0.0118, -0.0039, -0.0588, -0.0353,\n",
       "           -0.0118, -0.0745, -0.1294, -0.1059, -0.1529, -0.2549, -0.2706,\n",
       "           -0.2314, -0.3412, -0.4667, -0.1843,  0.2941,  0.0510, -0.2471]]]),\n",
       " 6)"
      ]
     },
     "execution_count": 9,
     "metadata": {
      "tags": []
     },
     "output_type": "execute_result"
    }
   ],
   "source": [
    "X_train[0]"
   ]
  },
  {
   "cell_type": "markdown",
   "metadata": {
    "id": "UNhBoh4DnmPC"
   },
   "source": [
    "**Selecting 2 Classes from 10:**"
   ]
  },
  {
   "cell_type": "code",
   "execution_count": 10,
   "metadata": {
    "id": "itaenR2gNFet"
   },
   "outputs": [],
   "source": [
    "idx= []\n",
    "for i in range(int(0.1*len(X_train))):\n",
    "  if X_train[i][1] in [0,1]:\n",
    "        idx.append(X_train[i])"
   ]
  },
  {
   "cell_type": "markdown",
   "metadata": {
    "id": "YXENiCvznvCD"
   },
   "source": [
    "**Data Pattern Recognition for 2 Classes:**"
   ]
  },
  {
   "cell_type": "code",
   "execution_count": 11,
   "metadata": {
    "colab": {
     "base_uri": "https://localhost:8080/"
    },
    "id": "qINH11qbNIGm",
    "outputId": "d28841ba-9f59-4e5d-94a4-e9136433f3c8"
   },
   "outputs": [
    {
     "data": {
      "text/plain": [
       "965"
      ]
     },
     "execution_count": 11,
     "metadata": {
      "tags": []
     },
     "output_type": "execute_result"
    }
   ],
   "source": [
    "len(idx)"
   ]
  },
  {
   "cell_type": "markdown",
   "metadata": {
    "id": "-b71k_bHn5DO"
   },
   "source": [
    "**Defining Data Loader For 2 Classes:**"
   ]
  },
  {
   "cell_type": "code",
   "execution_count": 14,
   "metadata": {
    "colab": {
     "base_uri": "https://localhost:8080/"
    },
    "id": "4lqa9xMqNV2N",
    "outputId": "2c826e9f-165b-4ef8-8957-0543c734cf80"
   },
   "outputs": [
    {
     "name": "stdout",
     "output_type": "stream",
     "text": [
      "torch.Size([1, 1, 28, 28])\n"
     ]
    }
   ],
   "source": [
    "trainloader= data.DataLoader(idx, batch_size=batch_size, shuffle=True, num_workers=2)\n",
    "images, labels  = iter(trainloader).next()\n",
    "print (images.size())"
   ]
  },
  {
   "cell_type": "markdown",
   "metadata": {
    "id": "L1zZ_zngohYE"
   },
   "source": [
    "**Data Visualization:** We also need to visualize our data to ensure whether we are on right track. Data Visualization also helps communicate our understanding of data in simple way. "
   ]
  },
  {
   "cell_type": "code",
   "execution_count": 15,
   "metadata": {
    "colab": {
     "base_uri": "https://localhost:8080/",
     "height": 283
    },
    "id": "CdxNKluKNncW",
    "outputId": "7d2f672a-9fb4-4155-d950-30df9d2d8fb1"
   },
   "outputs": [
    {
     "data": {
      "image/png": "[encoded data removed]",
      "text/plain": [
       "<Figure size 432x288 with 1 Axes>"
      ]
     },
     "metadata": {
      "needs_background": "light",
      "tags": []
     },
     "output_type": "display_data"
    },
    {
     "name": "stdout",
     "output_type": "stream",
     "text": [
      "airplane\n"
     ]
    }
   ],
   "source": [
    "import matplotlib.pyplot as plt\n",
    "import numpy as np\n",
    "\n",
    "def imshow(img):\n",
    "    img = img / 2 + 0.5\n",
    "    npimg = img.numpy()\n",
    "    plt.imshow(np.transpose(npimg, (1, 2, 0)))\n",
    "    plt.show()\n",
    "\n",
    "dataiter = iter(trainloader)\n",
    "images, labels = dataiter.next()\n",
    "\n",
    "imshow(torchvision.utils.make_grid(images))\n",
    "print(' '.join('%5s' % classes[labels[j]] for j in range(batch_size)))"
   ]
  },
  {
   "cell_type": "markdown",
   "metadata": {
    "id": "uWSr1HRopr6V"
   },
   "source": [
    "**Plotting Several Other Training Images:**"
   ]
  },
  {
   "cell_type": "code",
   "execution_count": 16,
   "metadata": {
    "colab": {
     "base_uri": "https://localhost:8080/",
     "height": 130
    },
    "id": "WMmIeAAUNrTi",
    "outputId": "73568f09-5686-4579-c63d-ce890f32eaba"
   },
   "outputs": [
    {
     "data": {
      "image/png": "[encoded data removed]",
      "text/plain": [
       "<Figure size 720x216 with 6 Axes>"
      ]
     },
     "metadata": {
      "tags": []
     },
     "output_type": "display_data"
    }
   ],
   "source": [
    "n_samples_show = 6 #six samples chosen\n",
    "\n",
    "data_iter = iter(trainloader)\n",
    "fig, axes = plt.subplots(nrows=1, ncols=n_samples_show, figsize=(10, 3))\n",
    "\n",
    "while n_samples_show > 0:\n",
    "    images, targets = data_iter.__next__()\n",
    "\n",
    "    axes[n_samples_show - 1].imshow(images[0, 0].numpy().squeeze(), cmap='gray')\n",
    "    axes[n_samples_show - 1].set_xticks([])\n",
    "    axes[n_samples_show - 1].set_yticks([])\n",
    "    axes[n_samples_show - 1].set_title(\"Labeled: {}\".format(targets[0].item()))\n",
    "\n",
    "    n_samples_show -= 1"
   ]
  },
  {
   "cell_type": "markdown",
   "metadata": {
    "id": "MrVkOgW1qAhD"
   },
   "source": [
    "**Defining Dataloader For Test Dataset:**"
   ]
  },
  {
   "cell_type": "code",
   "execution_count": 17,
   "metadata": {
    "colab": {
     "base_uri": "https://localhost:8080/"
    },
    "id": "5WQBr0z-Oabl",
    "outputId": "e398a7a3-9b43-45cc-e83f-a78d608ff1b4"
   },
   "outputs": [
    {
     "name": "stdout",
     "output_type": "stream",
     "text": [
      "Files already downloaded and verified\n",
      "torch.Size([1, 1, 28, 28])\n"
     ]
    }
   ],
   "source": [
    "testTransform  = tv.transforms.Compose([tv.transforms.Grayscale(num_output_channels=1),transforms.Resize(size=(28, 28)),\n",
    "                                    tv.transforms.ToTensor(), \n",
    "                                    transforms.Normalize(mean=[0.5], std=[0.5])])\n",
    "X_test = datasets.CIFAR10(root='./data', train=False, download=True,\n",
    "                        transform=testTransform)\n",
    "\n",
    "idx_test= []\n",
    "for i in range(int(0.05*len(X_train))):\n",
    "  if X_test[i][1] in [0,1]:\n",
    "        idx_test.append(X_test[i])\n",
    "\n",
    "testloader= data.DataLoader(idx_test, batch_size=batch_size, shuffle=True, num_workers=2)\n",
    "images, labels  = iter(testloader).next()\n",
    "print (images.size())"
   ]
  },
  {
   "cell_type": "markdown",
   "metadata": {
    "id": "8LUbkTgnqKZ0"
   },
   "source": [
    "**Verifying Data Size and Data Pattern:**"
   ]
  },
  {
   "cell_type": "code",
   "execution_count": 18,
   "metadata": {
    "colab": {
     "base_uri": "https://localhost:8080/"
    },
    "id": "nHwquP_SmV2M",
    "outputId": "5465a98c-c305-4140-9034-13e8ab7cf535"
   },
   "outputs": [
    {
     "name": "stdout",
     "output_type": "stream",
     "text": [
      "10000\n"
     ]
    }
   ],
   "source": [
    "print(len(X_test))"
   ]
  },
  {
   "cell_type": "code",
   "execution_count": 19,
   "metadata": {
    "colab": {
     "base_uri": "https://localhost:8080/"
    },
    "id": "vXKXdndbW4Ik",
    "outputId": "d6cd071d-66a8-4e20-9b44-40836eefa7ab"
   },
   "outputs": [
    {
     "data": {
      "text/plain": [
       "493"
      ]
     },
     "execution_count": 19,
     "metadata": {
      "tags": []
     },
     "output_type": "execute_result"
    }
   ],
   "source": [
    "len(idx_test)"
   ]
  },
  {
   "cell_type": "markdown",
   "metadata": {
    "id": "j05KuYBFqXJN"
   },
   "source": [
    "**Defining the QNN and Hybrid Model:** This is where we can see the power of the TorchConnector. First, We created our quantum neural network layer(TwoLayerQNN). Then, we embed it into a layer in our torch Module by initializing a torch connector as TorchConnector(qnn)."
   ]
  },
  {
   "cell_type": "code",
   "execution_count": 5,
   "metadata": {
    "id": "Wf2NU94iMTaN"
   },
   "outputs": [],
   "source": [
    "qi = QuantumInstance(Aer.get_backend('statevector_simulator'))"
   ]
  },
  {
   "cell_type": "code",
   "execution_count": 20,
   "metadata": {
    "colab": {
     "base_uri": "https://localhost:8080/"
    },
    "id": "9vIzlwONW7uT",
    "outputId": "266a08a2-a7cc-4b50-a3ae-964ed5591fbf"
   },
   "outputs": [
    {
     "name": "stdout",
     "output_type": "stream",
     "text": [
      "ComposedOp([\n",
      "  OperatorMeasurement(1.0 * ZZ),\n",
      "  CircuitStateFn(\n",
      "       ┌──────────────────────────┐»\n",
      "  q_0: ┤0                         ├»\n",
      "       │  ZZFeatureMap(x[0],x[1]) │»\n",
      "  q_1: ┤1                         ├»\n",
      "       └──────────────────────────┘»\n",
      "  «     ┌────────────────────────────────────────────────┐\n",
      "  «q_0: ┤0                                               ├\n",
      "  «     │  RealAmplitudes(θ[0],θ[1],θ[2],θ[3],θ[4],θ[5]) │\n",
      "  «q_1: ┤1                                               ├\n",
      "  «     └────────────────────────────────────────────────┘\n",
      "  )\n",
      "])\n"
     ]
    }
   ],
   "source": [
    "feature_map = ZZFeatureMap(2)\n",
    "ansatz = RealAmplitudes(2, reps=2)\n",
    "qnn4 = TwoLayerQNN(2, feature_map, ansatz, input_gradients=True, exp_val=AerPauliExpectation(), quantum_instance=qi)\n",
    "print(qnn4.operator)"
   ]
  },
  {
   "cell_type": "code",
   "execution_count": 21,
   "metadata": {
    "id": "PddiM37YXP5c"
   },
   "outputs": [],
   "source": [
    "class Net(Module):\n",
    "\n",
    "    def __init__(self):\n",
    "        super().__init__()\n",
    "        self.conv1 = Conv2d(1, 2, kernel_size=5)\n",
    "        self.conv2 = Conv2d(2, 16, kernel_size=5)\n",
    "        self.dropout = Dropout2d()\n",
    "        self.fc1 = Linear(256, 64)\n",
    "        self.fc2 = Linear(64, 2)         \n",
    "        self.qnn = TorchConnector(qnn4)  \n",
    "        self.fc3 = Linear(1, 1)          \n",
    "\n",
    "    def forward(self, x):\n",
    "        x = F.relu(self.conv1(x))\n",
    "        x = F.max_pool2d(x, 2)\n",
    "        x = F.relu(self.conv2(x))\n",
    "        x = F.max_pool2d(x, 2)\n",
    "        x = self.dropout(x)\n",
    "        x = x.view(1, -1)\n",
    "        x = F.relu(self.fc1(x))\n",
    "        x = self.fc2(x)\n",
    "        x = self.qnn(x)  # apply QNN\n",
    "        x = self.fc3(x)\n",
    "        return cat((x, 1 - x), -1)\n",
    "\n",
    "model4 = Net()"
   ]
  },
  {
   "cell_type": "markdown",
   "metadata": {
    "id": "3tZg9MR-s7aa"
   },
   "source": [
    "**Training Hybrid QNN Model:** In this section, we have trained our QNN. We have used ADAM optimizer for optimizaion. Learning rate is 0.001 and total number of epochs is 10. "
   ]
  },
  {
   "cell_type": "code",
   "execution_count": 22,
   "metadata": {
    "colab": {
     "base_uri": "https://localhost:8080/"
    },
    "id": "w83iL3joXjbU",
    "outputId": "142e1dd6-8b68-4c71-9eac-b18e8da12a3d"
   },
   "outputs": [
    {
     "name": "stderr",
     "output_type": "stream",
     "text": [
      "/usr/local/lib/python3.7/dist-packages/torch/nn/functional.py:718: UserWarning: Named tensors and all their associated APIs are an experimental feature and subject to change. Please do not use them for anything important until they are released as stable. (Triggered internally at  /pytorch/c10/core/TensorImpl.h:1156.)\n",
      "  return torch.max_pool2d(input, kernel_size, stride, padding, dilation, ceil_mode)\n"
     ]
    },
    {
     "name": "stdout",
     "output_type": "stream",
     "text": [
      "Training [10%]\tLoss: -0.4831\n",
      "Training [20%]\tLoss: -0.7279\n",
      "Training [30%]\tLoss: -1.0307\n",
      "Training [40%]\tLoss: -1.4283\n",
      "Training [50%]\tLoss: -1.8704\n",
      "Training [60%]\tLoss: -2.2195\n",
      "Training [70%]\tLoss: -2.6295\n",
      "Training [80%]\tLoss: -3.1208\n",
      "Training [90%]\tLoss: -3.5538\n",
      "Training [100%]\tLoss: -4.1672\n"
     ]
    }
   ],
   "source": [
    "optimizer = optim.Adam(model4.parameters(), lr=0.001)\n",
    "loss_func = NLLLoss()\n",
    "\n",
    "\n",
    "epochs = 10     \n",
    "loss_list = []  \n",
    "model4.train()  \n",
    "for epoch in range(epochs):\n",
    "    total_loss = []\n",
    "    for batch_idx, (data, target) in enumerate(trainloader):\n",
    "        optimizer.zero_grad(set_to_none=True)  \n",
    "        output = model4(data)\n",
    "        loss = loss_func(output, target)      \n",
    "        loss.backward()                        \n",
    "        optimizer.step()                       \n",
    "        total_loss.append(loss.item())         \n",
    "    loss_list.append(sum(total_loss)/len(total_loss))\n",
    "    print('Training [{:.0f}%]\\tLoss: {:.4f}'.format(\n",
    "        100. * (epoch + 1) / epochs, loss_list[-1]))"
   ]
  },
  {
   "cell_type": "markdown",
   "metadata": {
    "id": "zeHiMByWtvR_"
   },
   "source": [
    "**Plotting Loss:** Now, we need to visualize how our loss function behaved in each training iteration. We have plotted that in the following section:"
   ]
  },
  {
   "cell_type": "code",
   "execution_count": 23,
   "metadata": {
    "colab": {
     "base_uri": "https://localhost:8080/",
     "height": 295
    },
    "id": "AJNwTqbMX7BU",
    "outputId": "8f6eb600-41d8-435d-b6bb-88cb1f764ca8"
   },
   "outputs": [
    {
     "data": {
      "image/png": "[encoded data removed]",
      "text/plain": [
       "<Figure size 432x288 with 1 Axes>"
      ]
     },
     "metadata": {
      "needs_background": "light",
      "tags": []
     },
     "output_type": "display_data"
    }
   ],
   "source": [
    "plt.plot(loss_list)\n",
    "plt.title('Hybrid NN Training Convergence')\n",
    "plt.xlabel('Training Iterations')\n",
    "plt.ylabel('Neg. Log Likelihood Loss')\n",
    "plt.show()"
   ]
  },
  {
   "cell_type": "markdown",
   "metadata": {
    "id": "gVSpSi3yuKSl"
   },
   "source": [
    "**Testing Hybrid QNN Model:** After training our Hybrid QNN model, we need to check the performance of our model on unknown datasets. In this case, we have our prepared test data. We have applied out model and found Accuracy: 83.4%."
   ]
  },
  {
   "cell_type": "code",
   "execution_count": 24,
   "metadata": {
    "colab": {
     "base_uri": "https://localhost:8080/"
    },
    "id": "iae8FverlKfb",
    "outputId": "8427fdaa-86fa-4530-8350-cc2346f43ec5"
   },
   "outputs": [
    {
     "name": "stdout",
     "output_type": "stream",
     "text": [
      "Performance on test data:\n",
      "\tLoss: -4.2078\n",
      "\tAccuracy: 83.4%\n"
     ]
    }
   ],
   "source": [
    "model4.eval() \n",
    "with no_grad():\n",
    "\n",
    "    correct = 0\n",
    "    for batch_idx, (data, target) in enumerate(testloader):\n",
    "        output = model4(data)\n",
    "        if len(output.shape) == 1:\n",
    "            output = output.reshape(1, *output.shape)\n",
    "\n",
    "        pred = output.argmax(dim=1, keepdim=True)\n",
    "        correct += pred.eq(target.view_as(pred)).sum().item()\n",
    "\n",
    "        loss = loss_func(output, target)\n",
    "        total_loss.append(loss.item())\n",
    "\n",
    "    print('Performance on test data:\\n\\tLoss: {:.4f}\\n\\tAccuracy: {:.1f}%'\n",
    "          .format(sum(total_loss) / len(total_loss),\n",
    "                  correct / len(testloader) / batch_size * 100)\n",
    "    )"
   ]
  },
  {
   "cell_type": "markdown",
   "metadata": {
    "id": "EJFCyPUCuuLG"
   },
   "source": [
    "**Visualizing Results:** After performing our testing, we need to ensure our result visually. So, we have plotted our test data with the prediction done by our machine."
   ]
  },
  {
   "cell_type": "code",
   "execution_count": 25,
   "metadata": {
    "colab": {
     "base_uri": "https://localhost:8080/",
     "height": 130
    },
    "id": "r190sISVJU9A",
    "outputId": "8eea9524-0195-4909-9b6c-682891e07fef"
   },
   "outputs": [
    {
     "data": {
      "image/png": "[encoded data removed]",
      "text/plain": [
       "<Figure size 720x216 with 6 Axes>"
      ]
     },
     "metadata": {
      "tags": []
     },
     "output_type": "display_data"
    }
   ],
   "source": [
    "n_samples_show = 6\n",
    "count = 0\n",
    "fig, axes = plt.subplots(nrows=1, ncols=n_samples_show, figsize=(10, 3))\n",
    "\n",
    "model4.eval()\n",
    "with no_grad():\n",
    "    for batch_idx, (data, target) in enumerate(testloader):\n",
    "        if count == n_samples_show:\n",
    "            break\n",
    "        output = model4(data[0:1])\n",
    "        if len(output.shape) == 1:\n",
    "            output = output.reshape(1, *output.shape)\n",
    "\n",
    "        pred = output.argmax(dim=1, keepdim=True)\n",
    "\n",
    "        axes[count].imshow(data[0].numpy().squeeze(), cmap='gray')\n",
    "\n",
    "        axes[count].set_xticks([])\n",
    "        axes[count].set_yticks([])\n",
    "        axes[count].set_title('Predicted {}'.format(pred.item()))\n",
    "\n",
    "        count += 1"
   ]
  }
 ],
 "metadata": {
  "colab": {
   "collapsed_sections": [],
   "name": "Image Classification using Qiskit_approach_2_Exp2.ipynb",
   "provenance": []
  },
  "kernelspec": {
   "display_name": "Python 3",
   "language": "python",
   "name": "python3"
  },
  "language_info": {
   "codemirror_mode": {
    "name": "ipython",
    "version": 3
   },
   "file_extension": ".py",
   "mimetype": "text/x-python",
   "name": "python",
   "nbconvert_exporter": "python",
   "pygments_lexer": "ipython3",
   "version": "3.8.3"
  }
 },
 "nbformat": 4,
 "nbformat_minor": 1
}
